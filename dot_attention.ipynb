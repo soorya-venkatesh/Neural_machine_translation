{
 "cells": [
  {
   "cell_type": "code",
   "execution_count": 0,
   "metadata": {
    "colab": {},
    "colab_type": "code",
    "id": "J81W5zcNWZNS"
   },
   "outputs": [],
   "source": [
    "import pandas as pd\n",
    "import unicodedata\n",
    "import re\n",
    "import io\n",
    "import tensorflow as tf\n",
    "from sklearn.model_selection import train_test_split\n",
    "import os\n",
    "import time\n",
    "import numpy as np\n",
    "import matplotlib.pyplot as plt\n",
    "import matplotlib.ticker as ticker"
   ]
  },
  {
   "cell_type": "code",
   "execution_count": 2,
   "metadata": {
    "colab": {
     "base_uri": "https://localhost:8080/",
     "height": 201
    },
    "colab_type": "code",
    "id": "1ZslQDvjtf5W",
    "outputId": "b830e24b-128e-4c94-d13b-1b82eca5feb3"
   },
   "outputs": [
    {
     "name": "stdout",
     "output_type": "stream",
     "text": [
      "--2020-05-07 15:39:01--  http://www.manythings.org/anki/ita-eng.zip\n",
      "Resolving www.manythings.org (www.manythings.org)... 104.24.108.196, 104.24.109.196, 2606:4700:3037::6818:6cc4, ...\n",
      "Connecting to www.manythings.org (www.manythings.org)|104.24.108.196|:80... connected.\n",
      "HTTP request sent, awaiting response... 200 OK\n",
      "Length: 7345811 (7.0M) [application/zip]\n",
      "Saving to: ‘ita-eng.zip’\n",
      "\n",
      "\r",
      "ita-eng.zip           0%[                    ]       0  --.-KB/s               \r",
      "ita-eng.zip           3%[                    ] 221.50K   899KB/s               \r",
      "ita-eng.zip          45%[========>           ]   3.22M  7.20MB/s               \r",
      "ita-eng.zip         100%[===================>]   7.00M  12.2MB/s    in 0.6s    \n",
      "\n",
      "2020-05-07 15:39:02 (12.2 MB/s) - ‘ita-eng.zip’ saved [7345811/7345811]\n",
      "\n"
     ]
    }
   ],
   "source": [
    "! wget --header=\"Host: www.manythings.org\" --header=\"User-Agent: Mozilla/5.0 (Windows NT 10.0; Win64; x64) AppleWebKit/537.36 (KHTML, like Gecko) Chrome/81.0.4044.138 Safari/537.36\" --header=\"Accept: text/html,application/xhtml+xml,application/xml;q=0.9,image/webp,image/apng,*/*;q=0.8,application/signed-exchange;v=b3;q=0.9\" --header=\"Accept-Language: en-US,en;q=0.9\" --header=\"Referer: http://localhost:8889/notebooks/A26%20seq%20models/Seq2SeqImplementation_Assignment.ipynb\" --header=\"Cookie: __cfduid=d5d6483053d8f553a16e3797411e7fdb81587740885\" --header=\"Connection: keep-alive\" \"http://www.manythings.org/anki/ita-eng.zip\" -c -O 'ita-eng.zip'"
   ]
  },
  {
   "cell_type": "code",
   "execution_count": 3,
   "metadata": {
    "colab": {
     "base_uri": "https://localhost:8080/",
     "height": 67
    },
    "colab_type": "code",
    "id": "PDPyZtPQtrUj",
    "outputId": "084c3adf-89df-4c81-b1ff-d0aa35f82970"
   },
   "outputs": [
    {
     "name": "stdout",
     "output_type": "stream",
     "text": [
      "Archive:  ita-eng.zip\n",
      "  inflating: ita.txt                 \n",
      "  inflating: _about.txt              \n"
     ]
    }
   ],
   "source": [
    "! unzip ita-eng.zip"
   ]
  },
  {
   "cell_type": "markdown",
   "metadata": {},
   "source": [
    "### Importing and processing the data"
   ]
  },
  {
   "cell_type": "code",
   "execution_count": 0,
   "metadata": {
    "colab": {},
    "colab_type": "code",
    "id": "gdwmbMp7WZNW"
   },
   "outputs": [],
   "source": [
    "def unicode_to_ascii(s):\n",
    "    \n",
    "      return ''.join(c for c in unicodedata.normalize('NFD', s)\n",
    "          if unicodedata.category(c) != 'Mn')\n",
    "\n",
    "\n",
    "def preprocess_sentence(w):\n",
    "\n",
    "    #w = unicode_to_ascii(w.lower().strip())\n",
    "\n",
    "    # creating a space between a word and the punctuation following it\n",
    "    # eg: \"he is a boy.\" => \"he is a boy .\"\n",
    "    # Reference:- https://stackoverflow.com/questions/3645931/python-padding-punctuation-with-white-spaces-keeping-punctuation\n",
    "    w = re.sub(r\"([?.!,¿])\", r\" \\1 \", w)\n",
    "    w = re.sub(r'[\" \"]+', \" \", w)\n",
    "\n",
    "    # replacing everything with space except (a-z, A-Z, \".\", \"?\", \"!\", \",\")\n",
    "    w = re.sub(r\"[^a-zA-Z?.!,¿]+\", \" \", w)\n",
    "\n",
    "    w = w.strip()\n",
    "\n",
    "    # adding a start and an end token to the sentence\n",
    "    # so that the model know when to start and stop predicting.\n",
    "    w = '<start> ' + w + ' <end>'\n",
    "    return w"
   ]
  },
  {
   "cell_type": "code",
   "execution_count": 0,
   "metadata": {
    "colab": {},
    "colab_type": "code",
    "id": "yJPAq3sDWZNY"
   },
   "outputs": [],
   "source": [
    "lines = io.open('ita.txt', encoding='UTF-8').read().strip().split('\\n')"
   ]
  },
  {
   "cell_type": "code",
   "execution_count": 0,
   "metadata": {
    "colab": {},
    "colab_type": "code",
    "id": "dbQW8l2mWZNa"
   },
   "outputs": [],
   "source": [
    "english=[]\n",
    "spanish=[]\n",
    "for n in range(0,len(lines)):\n",
    "    a=lines[n]\n",
    "    i=(a.find('CC-BY'))\n",
    "    a=a[:i].split('\\t')\n",
    "    english.append(a[0])\n",
    "    spanish.append(a[1])"
   ]
  },
  {
   "cell_type": "code",
   "execution_count": 0,
   "metadata": {
    "colab": {},
    "colab_type": "code",
    "id": "Da5T3xpRWZNc"
   },
   "outputs": [],
   "source": [
    "processed_eng=[]\n",
    "processed_spa=[]\n",
    "for i,j in zip(english,spanish):\n",
    "    temp=preprocess_sentence(i)\n",
    "    processed_eng.append(temp)\n",
    "    temp=preprocess_sentence(j)\n",
    "    processed_spa.append(temp)"
   ]
  },
  {
   "cell_type": "code",
   "execution_count": 0,
   "metadata": {
    "colab": {},
    "colab_type": "code",
    "id": "xjur9tbeWZNe"
   },
   "outputs": [],
   "source": [
    "data=pd.DataFrame(list(zip(processed_eng, processed_spa)),columns =['English', 'Spanish'])"
   ]
  },
  {
   "cell_type": "code",
   "execution_count": 10,
   "metadata": {
    "colab": {
     "base_uri": "https://localhost:8080/",
     "height": 33
    },
    "colab_type": "code",
    "id": "x3Wvvm0VWZNh",
    "outputId": "03d34cb4-2a0b-4ce9-ded9-6173e309964c"
   },
   "outputs": [
    {
     "data": {
      "text/plain": [
       "(336614, 2)"
      ]
     },
     "execution_count": 10,
     "metadata": {
      "tags": []
     },
     "output_type": "execute_result"
    }
   ],
   "source": [
    "data.shape"
   ]
  },
  {
   "cell_type": "code",
   "execution_count": 9,
   "metadata": {
    "colab": {
     "base_uri": "https://localhost:8080/",
     "height": 196
    },
    "colab_type": "code",
    "id": "k90j5bHKWZNl",
    "outputId": "8df1206d-67eb-45a6-9cc2-1a605b9a3101"
   },
   "outputs": [
    {
     "data": {
      "text/html": [
       "<div>\n",
       "<style scoped>\n",
       "    .dataframe tbody tr th:only-of-type {\n",
       "        vertical-align: middle;\n",
       "    }\n",
       "\n",
       "    .dataframe tbody tr th {\n",
       "        vertical-align: top;\n",
       "    }\n",
       "\n",
       "    .dataframe thead th {\n",
       "        text-align: right;\n",
       "    }\n",
       "</style>\n",
       "<table border=\"1\" class=\"dataframe\">\n",
       "  <thead>\n",
       "    <tr style=\"text-align: right;\">\n",
       "      <th></th>\n",
       "      <th>English</th>\n",
       "      <th>Spanish</th>\n",
       "    </tr>\n",
       "  </thead>\n",
       "  <tbody>\n",
       "    <tr>\n",
       "      <th>0</th>\n",
       "      <td>&lt;start&gt; Hi . &lt;end&gt;</td>\n",
       "      <td>&lt;start&gt; Ciao ! &lt;end&gt;</td>\n",
       "    </tr>\n",
       "    <tr>\n",
       "      <th>1</th>\n",
       "      <td>&lt;start&gt; Run ! &lt;end&gt;</td>\n",
       "      <td>&lt;start&gt; Corri ! &lt;end&gt;</td>\n",
       "    </tr>\n",
       "    <tr>\n",
       "      <th>2</th>\n",
       "      <td>&lt;start&gt; Run ! &lt;end&gt;</td>\n",
       "      <td>&lt;start&gt; Corra ! &lt;end&gt;</td>\n",
       "    </tr>\n",
       "    <tr>\n",
       "      <th>3</th>\n",
       "      <td>&lt;start&gt; Run ! &lt;end&gt;</td>\n",
       "      <td>&lt;start&gt; Correte ! &lt;end&gt;</td>\n",
       "    </tr>\n",
       "    <tr>\n",
       "      <th>4</th>\n",
       "      <td>&lt;start&gt; Who ? &lt;end&gt;</td>\n",
       "      <td>&lt;start&gt; Chi ? &lt;end&gt;</td>\n",
       "    </tr>\n",
       "  </tbody>\n",
       "</table>\n",
       "</div>"
      ],
      "text/plain": [
       "               English                  Spanish\n",
       "0   <start> Hi . <end>     <start> Ciao ! <end>\n",
       "1  <start> Run ! <end>    <start> Corri ! <end>\n",
       "2  <start> Run ! <end>    <start> Corra ! <end>\n",
       "3  <start> Run ! <end>  <start> Correte ! <end>\n",
       "4  <start> Who ? <end>      <start> Chi ? <end>"
      ]
     },
     "execution_count": 9,
     "metadata": {
      "tags": []
     },
     "output_type": "execute_result"
    }
   ],
   "source": [
    "data.head()"
   ]
  },
  {
   "cell_type": "code",
   "execution_count": 0,
   "metadata": {
    "colab": {},
    "colab_type": "code",
    "id": "LK0NOEOCWZNn"
   },
   "outputs": [],
   "source": [
    "def tokenize(lang):\n",
    "    \"\"\"Function which tokenises and pads the data\"\"\"\n",
    "    lang_tokenizer = tf.keras.preprocessing.text.Tokenizer(filters='')\n",
    "    lang_tokenizer.fit_on_texts(lang)\n",
    "\n",
    "    tensor = lang_tokenizer.texts_to_sequences(lang)\n",
    "\n",
    "    tensor = tf.keras.preprocessing.sequence.pad_sequences(tensor,\n",
    "                                                         padding='post')\n",
    "\n",
    "    return tensor, lang_tokenizer"
   ]
  },
  {
   "cell_type": "code",
   "execution_count": 0,
   "metadata": {
    "colab": {},
    "colab_type": "code",
    "id": "p1aK1VstWZNo"
   },
   "outputs": [],
   "source": [
    "english_tensor,english_tokenizer=tokenize(processed_eng)\n",
    "spanish_tensor,spanish_tokenizer=tokenize(processed_spa)"
   ]
  },
  {
   "cell_type": "markdown",
   "metadata": {},
   "source": [
    "#### train-test split for tensor and unporcessed sentences using same random seed. the latter will be used in evalyuation stage "
   ]
  },
  {
   "cell_type": "code",
   "execution_count": 0,
   "metadata": {
    "colab": {},
    "colab_type": "code",
    "id": "sgNfUnlgWZNq"
   },
   "outputs": [],
   "source": [
    "input_tensor_train, input_tensor_val, target_tensor_train, target_tensor_val = train_test_split(english_tensor, spanish_tensor, test_size=0.2,random_state=42)\n",
    "input_train, input_val, target_train, target_val = train_test_split(english, spanish, test_size=0.2, random_state=42)"
   ]
  },
  {
   "cell_type": "code",
   "execution_count": 0,
   "metadata": {
    "colab": {},
    "colab_type": "code",
    "id": "A-w21SBinjek"
   },
   "outputs": [],
   "source": [
    "max_length_targ, max_length_inp = spanish_tensor.shape[1], english_tensor.shape[1]"
   ]
  },
  {
   "cell_type": "markdown",
   "metadata": {},
   "source": [
    "### Setting Hyper parameters "
   ]
  },
  {
   "cell_type": "code",
   "execution_count": 0,
   "metadata": {
    "colab": {},
    "colab_type": "code",
    "id": "2jI-6fsfWZNs"
   },
   "outputs": [],
   "source": [
    "BUFFER_SIZE = len(input_tensor_train)\n",
    "BATCH_SIZE = 128\n",
    "steps_per_epoch = len(input_tensor_train)//BATCH_SIZE\n",
    "embedding_dim = 256\n",
    "units = 512\n",
    "vocab_inp_size = len(english_tokenizer.word_index)+1\n",
    "vocab_tar_size = len(spanish_tokenizer.word_index)+1\n",
    "\n",
    "#tf.data.Dataset.from_tensor.slices\n",
    "dataset = tf.data.Dataset.from_tensor_slices((input_tensor_train, target_tensor_train)).shuffle(BUFFER_SIZE)\n",
    "dataset = dataset.batch(BATCH_SIZE, drop_remainder=True)"
   ]
  },
  {
   "cell_type": "code",
   "execution_count": 17,
   "metadata": {
    "colab": {
     "base_uri": "https://localhost:8080/",
     "height": 33
    },
    "colab_type": "code",
    "id": "kGQUScL0WZNv",
    "outputId": "a4669003-dcde-4137-d745-155a15d6a310"
   },
   "outputs": [
    {
     "data": {
      "text/plain": [
       "(TensorShape([128, 53]), TensorShape([128, 55]))"
      ]
     },
     "execution_count": 17,
     "metadata": {
      "tags": []
     },
     "output_type": "execute_result"
    }
   ],
   "source": [
    "example_input_batch, example_target_batch = next(iter(dataset))\n",
    "example_input_batch.shape, example_target_batch.shape"
   ]
  },
  {
   "cell_type": "markdown",
   "metadata": {},
   "source": [
    "### Defining classes for Encoder, Luong Attention, Decoder "
   ]
  },
  {
   "cell_type": "code",
   "execution_count": 0,
   "metadata": {
    "colab": {},
    "colab_type": "code",
    "id": "DroLdxN8WZNx"
   },
   "outputs": [],
   "source": [
    "class Encoder(tf.keras.Model):\n",
    "    \n",
    "    def __init__(self, vocab_size, embedding_dim, enc_units, batch_sz):\n",
    "        super(Encoder, self).__init__()\n",
    "        self.batch_sz = batch_sz\n",
    "        self.enc_units = enc_units\n",
    "        self.embedding = tf.keras.layers.Embedding(vocab_size, embedding_dim)\n",
    "        self.gru = tf.keras.layers.GRU(self.enc_units,\n",
    "                                       return_sequences=True,\n",
    "                                       return_state=True,\n",
    "                                       recurrent_initializer='glorot_uniform')\n",
    "\n",
    "    def call(self, x, hidden):\n",
    "        x = self.embedding(x)\n",
    "        output, state = self.gru(x, initial_state = hidden)\n",
    "        return output, state\n",
    "\n",
    "    def initialize_hidden_state(self):\n",
    "        return tf.zeros((self.batch_sz, self.enc_units))"
   ]
  },
  {
   "cell_type": "code",
   "execution_count": 0,
   "metadata": {
    "colab": {},
    "colab_type": "code",
    "id": "tHOIRC1jWZN1"
   },
   "outputs": [],
   "source": [
    "class luongAttention(tf.keras.layers.Layer):\n",
    "    \n",
    "    def __init__(self, rnn_size,function_type):\n",
    "        \n",
    "        super(luongAttention, self).__init__()\n",
    "        self.attention_func = function_type\n",
    "        \n",
    "        if self.attention_func == 'general':\n",
    "            # General score function\n",
    "            self.Wa = tf.keras.layers.Dense(rnn_size)\n",
    "        elif self.attention_func == 'concat':\n",
    "            # Concat score function\n",
    "            self.Wa = tf.keras.layers.Dense(rnn_size, activation='tanh')\n",
    "            self.va = tf.keras.layers.Dense(1)\n",
    "        \n",
    "\n",
    "    def call(self, query, values):\n",
    "        \n",
    "        #t=tf.expand_dims(query, 1)\n",
    "        t=query\n",
    "        \n",
    "        if self.attention_func=='dot':\n",
    "            #values:(batchsize,max_len,rnnsize)\n",
    "            #query:(batchsize,1,rnnsize)\n",
    "            #score:(batchsize,1,maxlen)\n",
    "            score=tf.matmul(t, (values),transpose_b=True)\n",
    "            #print(score.shape)\n",
    "\n",
    "        if self.attention_func=='general':\n",
    "            #values:(batchsize,max_len,rnnsize)\n",
    "            #query:(batchsize,1,rnnsize)\n",
    "            values=self.Wa(values) #shape=(batchsize,max_len,rnnsize)\n",
    "            score=tf.matmul(t, (values),transpose_b=True) #shape=(batchsize,1,maxlen)\n",
    "            print(score.shape)\n",
    "            \n",
    "        if self.attention_func=='concat':\n",
    "            \n",
    "            t=tf.tile(t, [1, values.shape[1],1]) #broadcasting done; shape=(batchsize,maxlen,rnnsize)\n",
    "            temp=tf.concat((t, values), axis=-1) #shape=(batchsize,maxlen,2*rnnsize)\n",
    "            temp=self.Wa(temp)# shape=(batchsize,maxlen,rnnsize)\n",
    "            score=self.va(temp)# shape=(batchsize,maxlen,1)\n",
    "            score=tf.transpose(score,[0,2,1]) #shape=(batchsize,1,maxlen)\n",
    "            print(score.shape)\n",
    "        \n",
    "        alignment = tf.nn.softmax(score, axis=2)\n",
    "        context = tf.matmul(alignment, values)\n",
    "\n",
    "        return context, alignment\n",
    "            \n"
   ]
  },
  {
   "cell_type": "code",
   "execution_count": 0,
   "metadata": {
    "colab": {},
    "colab_type": "code",
    "id": "klh45LEUWZN_"
   },
   "outputs": [],
   "source": [
    "class Decoder(tf.keras.Model):\n",
    "    def __init__(self, vocab_size, embedding_size, rnn_size,func):\n",
    "        super(Decoder, self).__init__()\n",
    "        \n",
    "        self.attention = luongAttention(rnn_size,func)\n",
    "\n",
    "        self.rnn_size = rnn_size\n",
    "        self.embedding = tf.keras.layers.Embedding(vocab_size, embedding_size)\n",
    "        self.gru = tf.keras.layers.GRU(self.rnn_size,\n",
    "                                        return_sequences=True,\n",
    "                                        return_state=True,\n",
    "                                        recurrent_initializer='glorot_uniform') \n",
    "        \n",
    "        self.wc = tf.keras.layers.Dense(rnn_size, activation='tanh')\n",
    "        self.ws = tf.keras.layers.Dense(vocab_size)\n",
    "\n",
    "    def call(self, sequence, state, encoder_output):\n",
    "        # Remember that the input to the decoder\n",
    "        # is now a batch of one-word sequences,\n",
    "        # which means that its shape is (batch_size, 1)\n",
    "        embed = self.embedding(sequence)\n",
    "        \n",
    "        # Therefore, the lstm_out has shape (batch_size, 1, rnn_size)\n",
    "        #lstm_out, state_h, state_c = self.lstm(embed, initial_state=state)\n",
    "        lstm_out, state = self.gru(embed,initial_state=state)\n",
    "        \n",
    "        # Use self.attention to compute the context and alignment vectors\n",
    "        # context vector's shape: (batch_size, 1, rnn_size)\n",
    "        # alignment vector's shape: (batch_size, 1, source_length)\n",
    "        context, alignment = self.attention(lstm_out, encoder_output)\n",
    "        \n",
    "        \n",
    "        # Combine the context vector and the LSTM output\n",
    "        # Before combined, both have shape of (batch_size, 1, rnn_size),\n",
    "        # so let's squeeze the axis 1 first\n",
    "        # After combined, it will have shape of (batch_size, 2 * rnn_size)\n",
    "        lstm_out = tf.concat([tf.squeeze(context, 1), tf.squeeze(lstm_out, 1)], 1)\n",
    "        \n",
    "        # lstm_out now has shape (batch_size, rnn_size)\n",
    "        lstm_out = self.wc(lstm_out)\n",
    "        logits = self.ws(lstm_out)\n",
    "        #print(logits.shape)\n",
    "       \n",
    "        \n",
    "        return logits,state,alignment\n",
    "        \n",
    "        "
   ]
  },
  {
   "cell_type": "markdown",
   "metadata": {},
   "source": [
    "### Defining optimiser and loss function"
   ]
  },
  {
   "cell_type": "code",
   "execution_count": 0,
   "metadata": {
    "colab": {},
    "colab_type": "code",
    "id": "u5OzJ_3sWZOC"
   },
   "outputs": [],
   "source": [
    "optimizer = tf.keras.optimizers.Adam()\n",
    "\n",
    "loss_object = tf.keras.losses.SparseCategoricalCrossentropy(\n",
    "    from_logits=True, reduction='none')\n",
    "\n",
    "def loss_function(real, pred):\n",
    "    mask = tf.math.logical_not(tf.math.equal(real, 0))\n",
    "    loss_ = loss_object(real, pred)\n",
    "    mask = tf.cast(mask, dtype=loss_.dtype)\n",
    "    loss_ *= mask\n",
    "    return tf.reduce_mean(loss_)"
   ]
  },
  {
   "cell_type": "markdown",
   "metadata": {},
   "source": [
    "#### Train step function uses training data to make predictions using teacher forcing and find gradients for the weights"
   ]
  },
  {
   "cell_type": "code",
   "execution_count": 0,
   "metadata": {
    "colab": {},
    "colab_type": "code",
    "id": "faQCj-yZWZOF"
   },
   "outputs": [],
   "source": [
    "@tf.function\n",
    "def train_step(inp, targ, enc_hidden):\n",
    "    \n",
    "    loss = 0\n",
    "\n",
    "    with tf.GradientTape() as tape:\n",
    "        \n",
    "        enc_output, enc_hidden = encoder(inp, enc_hidden)\n",
    "\n",
    "        dec_hidden = enc_hidden\n",
    "\n",
    "        dec_input = tf.expand_dims([spanish_tokenizer.word_index['<start>']] * BATCH_SIZE, 1)\n",
    "\n",
    "        # Teacher forcing - feeding the target as the next input\n",
    "        for t in range(1, targ.shape[1]):\n",
    "            \n",
    "            #passing enc_output to the decoder\n",
    "            predictions, dec_hidden, _ = decoder(dec_input, dec_hidden, enc_output)\n",
    "\n",
    "            loss += loss_function(targ[:, t], predictions)\n",
    "\n",
    "            # using teacher forcing\n",
    "            dec_input = tf.expand_dims(targ[:, t], 1)\n",
    "\n",
    "    batch_loss = (loss / int(targ.shape[1]))\n",
    "\n",
    "    variables = encoder.trainable_variables + decoder.trainable_variables\n",
    "\n",
    "    gradients = tape.gradient(loss, variables)\n",
    "\n",
    "    optimizer.apply_gradients(zip(gradients, variables))\n",
    "\n",
    "    return batch_loss"
   ]
  },
  {
   "cell_type": "markdown",
   "metadata": {},
   "source": [
    "#### Instatiating encoder and decoder classes"
   ]
  },
  {
   "cell_type": "code",
   "execution_count": 0,
   "metadata": {
    "colab": {},
    "colab_type": "code",
    "id": "5ajg2bl1l2RK"
   },
   "outputs": [],
   "source": [
    "encoder = Encoder(vocab_inp_size, embedding_dim, units, BATCH_SIZE)\n",
    "decoder=Decoder(vocab_tar_size, embedding_dim, units,\"dot\")"
   ]
  },
  {
   "cell_type": "code",
   "execution_count": 0,
   "metadata": {
    "colab": {},
    "colab_type": "code",
    "id": "T10Vw5PBmDVj"
   },
   "outputs": [],
   "source": [
    "checkpoint_dir = './training_checkpoints'\n",
    "checkpoint_prefix = os.path.join(checkpoint_dir, \"ckpt\")\n",
    "checkpoint = tf.train.Checkpoint(optimizer=optimizer,\n",
    "                                 encoder=encoder,\n",
    "                                 decoder=decoder)"
   ]
  },
  {
   "cell_type": "markdown",
   "metadata": {},
   "source": [
    "### Training for 10 epochs"
   ]
  },
  {
   "cell_type": "code",
   "execution_count": 25,
   "metadata": {
    "colab": {
     "base_uri": "https://localhost:8080/",
     "height": 1000
    },
    "colab_type": "code",
    "id": "bt2FFTd_WZOI",
    "outputId": "91e3e38a-6a46-4a3e-fb77-6e1bd6d7d11c"
   },
   "outputs": [
    {
     "name": "stdout",
     "output_type": "stream",
     "text": [
      "Epoch 1 Batch 0 Loss 1.3522\n",
      "Epoch 1 Batch 100 Loss 0.7797\n",
      "Epoch 1 Batch 200 Loss 0.7016\n",
      "Epoch 1 Batch 300 Loss 0.7087\n",
      "Epoch 1 Batch 400 Loss 0.7377\n",
      "Epoch 1 Batch 500 Loss 0.6811\n",
      "Epoch 1 Batch 600 Loss 0.7069\n",
      "Epoch 1 Batch 700 Loss 0.6343\n",
      "Epoch 1 Batch 800 Loss 0.6487\n",
      "Epoch 1 Batch 900 Loss 0.6877\n",
      "Epoch 1 Batch 1000 Loss 0.6407\n",
      "Epoch 1 Batch 1100 Loss 0.6098\n",
      "Epoch 1 Batch 1200 Loss 0.5642\n",
      "Epoch 1 Batch 1300 Loss 0.6014\n",
      "Epoch 1 Batch 1400 Loss 0.5882\n",
      "Epoch 1 Batch 1500 Loss 0.5692\n",
      "Epoch 1 Batch 1600 Loss 0.5282\n",
      "Epoch 1 Batch 1700 Loss 0.5034\n",
      "Epoch 1 Batch 1800 Loss 0.5307\n",
      "Epoch 1 Batch 1900 Loss 0.5297\n",
      "Epoch 1 Batch 2000 Loss 0.4987\n",
      "Epoch 1 Batch 2100 Loss 0.5085\n",
      "Epoch 1 Loss 0.6321\n",
      "Time taken for 1 epoch 729.1204652786255 sec\n",
      "\n",
      "Epoch 2 Batch 0 Loss 0.4836\n",
      "Epoch 2 Batch 100 Loss 0.4674\n",
      "Epoch 2 Batch 200 Loss 0.4709\n",
      "Epoch 2 Batch 300 Loss 0.4685\n",
      "Epoch 2 Batch 400 Loss 0.4316\n",
      "Epoch 2 Batch 500 Loss 0.4290\n",
      "Epoch 2 Batch 600 Loss 0.4786\n",
      "Epoch 2 Batch 700 Loss 0.4311\n",
      "Epoch 2 Batch 800 Loss 0.4304\n",
      "Epoch 2 Batch 900 Loss 0.4016\n",
      "Epoch 2 Batch 1000 Loss 0.3901\n",
      "Epoch 2 Batch 1100 Loss 0.4178\n",
      "Epoch 2 Batch 1200 Loss 0.3797\n",
      "Epoch 2 Batch 1300 Loss 0.3728\n",
      "Epoch 2 Batch 1400 Loss 0.3753\n",
      "Epoch 2 Batch 1500 Loss 0.3643\n",
      "Epoch 2 Batch 1600 Loss 0.3679\n",
      "Epoch 2 Batch 1700 Loss 0.3179\n",
      "Epoch 2 Batch 1800 Loss 0.3512\n",
      "Epoch 2 Batch 1900 Loss 0.3585\n",
      "Epoch 2 Batch 2000 Loss 0.3588\n",
      "Epoch 2 Batch 2100 Loss 0.2996\n",
      "Epoch 2 Loss 0.3977\n",
      "Time taken for 1 epoch 680.8080766201019 sec\n",
      "\n",
      "Epoch 3 Batch 0 Loss 0.3172\n",
      "Epoch 3 Batch 100 Loss 0.3305\n",
      "Epoch 3 Batch 200 Loss 0.2816\n",
      "Epoch 3 Batch 300 Loss 0.3294\n",
      "Epoch 3 Batch 400 Loss 0.2602\n",
      "Epoch 3 Batch 500 Loss 0.2655\n",
      "Epoch 3 Batch 600 Loss 0.2742\n",
      "Epoch 3 Batch 700 Loss 0.2782\n",
      "Epoch 3 Batch 800 Loss 0.2747\n",
      "Epoch 3 Batch 900 Loss 0.2460\n",
      "Epoch 3 Batch 1000 Loss 0.2582\n",
      "Epoch 3 Batch 1100 Loss 0.2481\n",
      "Epoch 3 Batch 1200 Loss 0.2732\n",
      "Epoch 3 Batch 1300 Loss 0.2623\n",
      "Epoch 3 Batch 1400 Loss 0.2641\n",
      "Epoch 3 Batch 1500 Loss 0.2535\n",
      "Epoch 3 Batch 1600 Loss 0.2683\n",
      "Epoch 3 Batch 1700 Loss 0.2557\n",
      "Epoch 3 Batch 1800 Loss 0.2248\n",
      "Epoch 3 Batch 1900 Loss 0.2425\n",
      "Epoch 3 Batch 2000 Loss 0.2363\n",
      "Epoch 3 Batch 2100 Loss 0.2493\n",
      "Epoch 3 Loss 0.2652\n",
      "Time taken for 1 epoch 678.2152619361877 sec\n",
      "\n",
      "Epoch 4 Batch 0 Loss 0.2142\n",
      "Epoch 4 Batch 100 Loss 0.1916\n",
      "Epoch 4 Batch 200 Loss 0.1889\n",
      "Epoch 4 Batch 300 Loss 0.1822\n",
      "Epoch 4 Batch 400 Loss 0.2136\n",
      "Epoch 4 Batch 500 Loss 0.2205\n",
      "Epoch 4 Batch 600 Loss 0.2161\n",
      "Epoch 4 Batch 700 Loss 0.2089\n",
      "Epoch 4 Batch 800 Loss 0.1850\n",
      "Epoch 4 Batch 900 Loss 0.1959\n",
      "Epoch 4 Batch 1000 Loss 0.1923\n",
      "Epoch 4 Batch 1100 Loss 0.1765\n",
      "Epoch 4 Batch 1200 Loss 0.1833\n",
      "Epoch 4 Batch 1300 Loss 0.1756\n",
      "Epoch 4 Batch 1400 Loss 0.1694\n",
      "Epoch 4 Batch 1500 Loss 0.1688\n",
      "Epoch 4 Batch 1600 Loss 0.1537\n",
      "Epoch 4 Batch 1700 Loss 0.1506\n",
      "Epoch 4 Batch 1800 Loss 0.1610\n",
      "Epoch 4 Batch 1900 Loss 0.1589\n",
      "Epoch 4 Batch 2000 Loss 0.1613\n",
      "Epoch 4 Batch 2100 Loss 0.1722\n",
      "Epoch 4 Loss 0.1839\n",
      "Time taken for 1 epoch 677.8298025131226 sec\n",
      "\n",
      "Epoch 5 Batch 0 Loss 0.1498\n",
      "Epoch 5 Batch 100 Loss 0.1591\n",
      "Epoch 5 Batch 200 Loss 0.1576\n",
      "Epoch 5 Batch 300 Loss 0.1276\n",
      "Epoch 5 Batch 400 Loss 0.1429\n",
      "Epoch 5 Batch 500 Loss 0.1321\n",
      "Epoch 5 Batch 600 Loss 0.1332\n",
      "Epoch 5 Batch 700 Loss 0.1323\n",
      "Epoch 5 Batch 800 Loss 0.1584\n",
      "Epoch 5 Batch 900 Loss 0.1175\n",
      "Epoch 5 Batch 1000 Loss 0.1352\n",
      "Epoch 5 Batch 1100 Loss 0.1217\n",
      "Epoch 5 Batch 1200 Loss 0.1238\n",
      "Epoch 5 Batch 1300 Loss 0.1298\n",
      "Epoch 5 Batch 1400 Loss 0.1169\n",
      "Epoch 5 Batch 1500 Loss 0.1399\n",
      "Epoch 5 Batch 1600 Loss 0.1526\n",
      "Epoch 5 Batch 1700 Loss 0.1380\n",
      "Epoch 5 Batch 1800 Loss 0.1147\n",
      "Epoch 5 Batch 1900 Loss 0.1269\n",
      "Epoch 5 Batch 2000 Loss 0.1340\n",
      "Epoch 5 Batch 2100 Loss 0.1569\n",
      "Epoch 5 Loss 0.1340\n",
      "Time taken for 1 epoch 677.1969282627106 sec\n",
      "\n",
      "Epoch 6 Batch 0 Loss 0.1105\n",
      "Epoch 6 Batch 100 Loss 0.1013\n",
      "Epoch 6 Batch 200 Loss 0.0968\n",
      "Epoch 6 Batch 300 Loss 0.1078\n",
      "Epoch 6 Batch 400 Loss 0.1012\n",
      "Epoch 6 Batch 500 Loss 0.0953\n",
      "Epoch 6 Batch 600 Loss 0.0970\n",
      "Epoch 6 Batch 700 Loss 0.1037\n",
      "Epoch 6 Batch 800 Loss 0.1109\n",
      "Epoch 6 Batch 900 Loss 0.1143\n",
      "Epoch 6 Batch 1000 Loss 0.1114\n",
      "Epoch 6 Batch 1100 Loss 0.1165\n",
      "Epoch 6 Batch 1200 Loss 0.1086\n",
      "Epoch 6 Batch 1300 Loss 0.0872\n",
      "Epoch 6 Batch 1400 Loss 0.0892\n",
      "Epoch 6 Batch 1500 Loss 0.1093\n",
      "Epoch 6 Batch 1600 Loss 0.1116\n",
      "Epoch 6 Batch 1700 Loss 0.1214\n",
      "Epoch 6 Batch 1800 Loss 0.0987\n",
      "Epoch 6 Batch 1900 Loss 0.1169\n",
      "Epoch 6 Batch 2000 Loss 0.1132\n",
      "Epoch 6 Batch 2100 Loss 0.0993\n",
      "Epoch 6 Loss 0.1035\n",
      "Time taken for 1 epoch 678.6143193244934 sec\n",
      "\n",
      "Epoch 7 Batch 0 Loss 0.0738\n",
      "Epoch 7 Batch 100 Loss 0.0877\n",
      "Epoch 7 Batch 200 Loss 0.0751\n",
      "Epoch 7 Batch 300 Loss 0.0891\n",
      "Epoch 7 Batch 400 Loss 0.0779\n",
      "Epoch 7 Batch 500 Loss 0.0741\n",
      "Epoch 7 Batch 600 Loss 0.0969\n",
      "Epoch 7 Batch 700 Loss 0.0867\n",
      "Epoch 7 Batch 800 Loss 0.0845\n",
      "Epoch 7 Batch 900 Loss 0.1087\n",
      "Epoch 7 Batch 1000 Loss 0.0848\n",
      "Epoch 7 Batch 1100 Loss 0.0708\n",
      "Epoch 7 Batch 1200 Loss 0.0940\n",
      "Epoch 7 Batch 1300 Loss 0.0858\n",
      "Epoch 7 Batch 1400 Loss 0.0882\n",
      "Epoch 7 Batch 1500 Loss 0.0876\n",
      "Epoch 7 Batch 1600 Loss 0.0985\n",
      "Epoch 7 Batch 1700 Loss 0.0958\n",
      "Epoch 7 Batch 1800 Loss 0.0775\n",
      "Epoch 7 Batch 1900 Loss 0.0939\n",
      "Epoch 7 Batch 2000 Loss 0.0826\n",
      "Epoch 7 Batch 2100 Loss 0.0777\n",
      "Epoch 7 Loss 0.0846\n",
      "Time taken for 1 epoch 678.1110122203827 sec\n",
      "\n",
      "Epoch 8 Batch 0 Loss 0.0696\n",
      "Epoch 8 Batch 100 Loss 0.0659\n",
      "Epoch 8 Batch 200 Loss 0.0731\n",
      "Epoch 8 Batch 300 Loss 0.0590\n",
      "Epoch 8 Batch 400 Loss 0.0658\n",
      "Epoch 8 Batch 500 Loss 0.0707\n",
      "Epoch 8 Batch 600 Loss 0.0533\n",
      "Epoch 8 Batch 700 Loss 0.0651\n",
      "Epoch 8 Batch 800 Loss 0.0864\n",
      "Epoch 8 Batch 900 Loss 0.0697\n",
      "Epoch 8 Batch 1000 Loss 0.0718\n",
      "Epoch 8 Batch 1100 Loss 0.0744\n",
      "Epoch 8 Batch 1200 Loss 0.0757\n",
      "Epoch 8 Batch 1300 Loss 0.0847\n",
      "Epoch 8 Batch 1400 Loss 0.0804\n",
      "Epoch 8 Batch 1500 Loss 0.0717\n",
      "Epoch 8 Batch 1600 Loss 0.0799\n",
      "Epoch 8 Batch 1700 Loss 0.0775\n",
      "Epoch 8 Batch 1800 Loss 0.0806\n",
      "Epoch 8 Batch 1900 Loss 0.0707\n",
      "Epoch 8 Batch 2000 Loss 0.0794\n",
      "Epoch 8 Batch 2100 Loss 0.0762\n",
      "Epoch 8 Loss 0.0729\n",
      "Time taken for 1 epoch 679.6663994789124 sec\n",
      "\n",
      "Epoch 9 Batch 0 Loss 0.0605\n",
      "Epoch 9 Batch 100 Loss 0.0662\n",
      "Epoch 9 Batch 200 Loss 0.0625\n",
      "Epoch 9 Batch 300 Loss 0.0673\n",
      "Epoch 9 Batch 400 Loss 0.0612\n",
      "Epoch 9 Batch 500 Loss 0.0476\n",
      "Epoch 9 Batch 600 Loss 0.0638\n",
      "Epoch 9 Batch 700 Loss 0.0653\n",
      "Epoch 9 Batch 800 Loss 0.0659\n",
      "Epoch 9 Batch 900 Loss 0.0652\n",
      "Epoch 9 Batch 1000 Loss 0.0568\n",
      "Epoch 9 Batch 1100 Loss 0.0883\n",
      "Epoch 9 Batch 1200 Loss 0.0671\n",
      "Epoch 9 Batch 1300 Loss 0.0658\n",
      "Epoch 9 Batch 1400 Loss 0.0747\n",
      "Epoch 9 Batch 1500 Loss 0.0586\n",
      "Epoch 9 Batch 1600 Loss 0.0768\n",
      "Epoch 9 Batch 1700 Loss 0.0679\n",
      "Epoch 9 Batch 1800 Loss 0.0653\n",
      "Epoch 9 Batch 1900 Loss 0.0648\n",
      "Epoch 9 Batch 2000 Loss 0.0731\n",
      "Epoch 9 Batch 2100 Loss 0.0770\n",
      "Epoch 9 Loss 0.0654\n",
      "Time taken for 1 epoch 677.6507816314697 sec\n",
      "\n",
      "Epoch 10 Batch 0 Loss 0.0514\n",
      "Epoch 10 Batch 100 Loss 0.0504\n",
      "Epoch 10 Batch 200 Loss 0.0539\n",
      "Epoch 10 Batch 300 Loss 0.0492\n",
      "Epoch 10 Batch 400 Loss 0.0574\n",
      "Epoch 10 Batch 500 Loss 0.0654\n",
      "Epoch 10 Batch 600 Loss 0.0516\n",
      "Epoch 10 Batch 700 Loss 0.0586\n",
      "Epoch 10 Batch 800 Loss 0.0682\n",
      "Epoch 10 Batch 900 Loss 0.0709\n",
      "Epoch 10 Batch 1000 Loss 0.0487\n",
      "Epoch 10 Batch 1100 Loss 0.0624\n",
      "Epoch 10 Batch 1200 Loss 0.0661\n",
      "Epoch 10 Batch 1300 Loss 0.0526\n",
      "Epoch 10 Batch 1400 Loss 0.0627\n",
      "Epoch 10 Batch 1500 Loss 0.0574\n",
      "Epoch 10 Batch 1600 Loss 0.0686\n",
      "Epoch 10 Batch 1700 Loss 0.0600\n",
      "Epoch 10 Batch 1800 Loss 0.0684\n",
      "Epoch 10 Batch 1900 Loss 0.0628\n",
      "Epoch 10 Batch 2000 Loss 0.0631\n",
      "Epoch 10 Batch 2100 Loss 0.0641\n",
      "Epoch 10 Loss 0.0606\n",
      "Time taken for 1 epoch 680.7284760475159 sec\n",
      "\n"
     ]
    }
   ],
   "source": [
    "EPOCHS = 10\n",
    "\n",
    "for epoch in range(EPOCHS):\n",
    "    \n",
    "    start = time.time()\n",
    "\n",
    "    enc_hidden = encoder.initialize_hidden_state()\n",
    "    total_loss = 0\n",
    "\n",
    "    for (batch, (inp, targ)) in enumerate(dataset.take(steps_per_epoch)):\n",
    "        \n",
    "        batch_loss = train_step(inp, targ, enc_hidden)\n",
    "        total_loss += batch_loss\n",
    "\n",
    "        if batch % 100 == 0:\n",
    "        \n",
    "            print('Epoch {} Batch {} Loss {:.4f}'.format(epoch + 1,\n",
    "                                                   batch,\n",
    "                                                   batch_loss.numpy()))\n",
    "    # saving (checkpoint) the model every 2 epochs\n",
    "    if (epoch + 1) % 2 == 0:\n",
    "        \n",
    "        checkpoint.save(file_prefix = checkpoint_prefix)\n",
    "\n",
    "    print('Epoch {} Loss {:.4f}'.format(epoch + 1,\n",
    "                                      total_loss / steps_per_epoch))\n",
    "    print('Time taken for 1 epoch {} sec\\n'.format(time.time() - start))"
   ]
  },
  {
   "cell_type": "code",
   "execution_count": 0,
   "metadata": {
    "colab": {},
    "colab_type": "code",
    "id": "CRkejF0MWZOK"
   },
   "outputs": [],
   "source": [
    "def evaluate(sentence):\n",
    "  attention_plot = np.zeros((max_length_targ, max_length_inp))\n",
    "\n",
    "  sentence = preprocess_sentence(sentence)\n",
    "\n",
    "  inputs = [english_tokenizer.word_index[i] for i in sentence.split(' ')]\n",
    "  inputs = tf.keras.preprocessing.sequence.pad_sequences([inputs],\n",
    "                                                         maxlen=max_length_inp,\n",
    "                                                         padding='post')\n",
    "  inputs = tf.convert_to_tensor(inputs)\n",
    "\n",
    "  result = ''\n",
    "\n",
    "  hidden = [tf.zeros((1, units))]\n",
    "  enc_out, enc_hidden = encoder(inputs, hidden)\n",
    "\n",
    "  dec_hidden = enc_hidden\n",
    "  dec_input = tf.expand_dims([spanish_tokenizer.word_index['<start>']], 0)\n",
    "\n",
    "  for t in range(max_length_targ):\n",
    "    predictions, dec_hidden, attention_weights = decoder(dec_input,\n",
    "                                                         dec_hidden,\n",
    "                                                         enc_out)\n",
    "\n",
    "    # storing the attention weights to plot later on\n",
    "    attention_weights = tf.reshape(attention_weights, (-1, ))\n",
    "    attention_plot[t] = attention_weights.numpy()\n",
    "\n",
    "    predicted_id = tf.argmax(predictions[0]).numpy()\n",
    "\n",
    "    result += spanish_tokenizer.index_word[predicted_id] + ' '\n",
    "\n",
    "    if spanish_tokenizer.index_word[predicted_id] == '<end>':\n",
    "      return result, sentence, attention_plot\n",
    "\n",
    "    # the predicted ID is fed back into the model\n",
    "    dec_input = tf.expand_dims([predicted_id], 0)\n",
    "\n",
    "  return result, sentence, attention_plot"
   ]
  },
  {
   "cell_type": "code",
   "execution_count": 0,
   "metadata": {
    "colab": {},
    "colab_type": "code",
    "id": "jI_c4ldxWZOL"
   },
   "outputs": [],
   "source": [
    "# function for plotting the attention weights\n",
    "def plot_attention(attention, sentence, predicted_sentence):\n",
    "  fig = plt.figure(figsize=(10,10))\n",
    "  ax = fig.add_subplot(1, 1, 1)\n",
    "  ax.matshow(attention, cmap='viridis')\n",
    "\n",
    "  fontdict = {'fontsize': 14}\n",
    "\n",
    "  ax.set_xticklabels([''] + sentence, fontdict=fontdict, rotation=90)\n",
    "  ax.set_yticklabels([''] + predicted_sentence, fontdict=fontdict)\n",
    "\n",
    "  ax.xaxis.set_major_locator(ticker.MultipleLocator(1))\n",
    "  ax.yaxis.set_major_locator(ticker.MultipleLocator(1))\n",
    "\n",
    "  plt.show()"
   ]
  },
  {
   "cell_type": "code",
   "execution_count": 0,
   "metadata": {
    "colab": {},
    "colab_type": "code",
    "id": "XrbwCqpfWZON"
   },
   "outputs": [],
   "source": [
    "def translate(sentence):\n",
    "  result, sentence, attention_plot = evaluate(sentence)\n",
    "\n",
    "  print('Input: %s' % (sentence))\n",
    "  print('Predicted translation: {}'.format(result))\n",
    "\n",
    "  attention_plot = attention_plot[:len(result.split(' ')), :len(sentence.split(' '))]\n",
    "  plot_attention(attention_plot, sentence.split(' '), result.split(' '))"
   ]
  },
  {
   "cell_type": "markdown",
   "metadata": {},
   "source": [
    "### Making predictions for few sentences and plotting its attention plot"
   ]
  },
  {
   "cell_type": "code",
   "execution_count": 105,
   "metadata": {
    "colab": {
     "base_uri": "https://localhost:8080/",
     "height": 633
    },
    "colab_type": "code",
    "id": "O3xtt54GWZOO",
    "outputId": "9eb8792e-6a9a-4ee9-89e7-c91857d54f61"
   },
   "outputs": [
    {
     "name": "stdout",
     "output_type": "stream",
     "text": [
      "Input: <start> he did the work on his own . <end>\n",
      "Predicted translation: ha fatto il lavoro da fare . <end> \n"
     ]
    },
    {
     "data": {
      "image/png": "[encoded data removed]",
      "text/plain": [
       "<Figure size 720x720 with 1 Axes>"
      ]
     },
     "metadata": {
      "needs_background": "light",
      "tags": []
     },
     "output_type": "display_data"
    }
   ],
   "source": [
    "translate(input_val[200].lower())"
   ]
  },
  {
   "cell_type": "code",
   "execution_count": 106,
   "metadata": {
    "colab": {
     "base_uri": "https://localhost:8080/",
     "height": 674
    },
    "colab_type": "code",
    "id": "HNx1v3d6WZOR",
    "outputId": "01eb2fbb-ce15-4de9-a915-efd28a52ca2e"
   },
   "outputs": [
    {
     "name": "stdout",
     "output_type": "stream",
     "text": [
      "Input: <start> i gave my old coat to tom . <end>\n",
      "Predicted translation: io ho dato il mio vecchio cappotto a tom . <end> \n"
     ]
    },
    {
     "data": {
      "image/png": "[encoded data removed]",
      "text/plain": [
       "<Figure size 720x720 with 1 Axes>"
      ]
     },
     "metadata": {
      "needs_background": "light",
      "tags": []
     },
     "output_type": "display_data"
    }
   ],
   "source": [
    "translate(input_val[99].lower())"
   ]
  },
  {
   "cell_type": "code",
   "execution_count": 107,
   "metadata": {
    "colab": {
     "base_uri": "https://localhost:8080/",
     "height": 674
    },
    "colab_type": "code",
    "id": "-FZ5ExztWZOS",
    "outputId": "005166a8-2e04-4f22-8081-20a68a4a7f15"
   },
   "outputs": [
    {
     "name": "stdout",
     "output_type": "stream",
     "text": [
      "Input: <start> ask tom to call me . <end>\n",
      "Predicted translation: chiedi a tom di chiamarmi . <end> \n"
     ]
    },
    {
     "data": {
      "image/png": "[encoded data removed]",
      "text/plain": [
       "<Figure size 720x720 with 1 Axes>"
      ]
     },
     "metadata": {
      "needs_background": "light",
      "tags": []
     },
     "output_type": "display_data"
    }
   ],
   "source": [
    "translate(input_val[260].lower())"
   ]
  },
  {
   "cell_type": "markdown",
   "metadata": {},
   "source": [
    "### Calculating BLEU score for test data"
   ]
  },
  {
   "cell_type": "code",
   "execution_count": 0,
   "metadata": {
    "colab": {},
    "colab_type": "code",
    "id": "dBQWGyOpWZOU"
   },
   "outputs": [],
   "source": [
    "def pre(w):\n",
    "    # creating a space between a word and the punctuation following it\n",
    "    # eg: \"he is a boy.\" => \"he is a boy .\"\n",
    "    # Reference:- https://stackoverflow.com/questions/3645931/python-padding-punctuation-with-white-spaces-keeping-punctuation\n",
    "    w=w.lower()\n",
    "    w = re.sub(r\"([?.!,¿])\", r\" \\1 \", w)\n",
    "    w = re.sub(r'[\" \"]+', \" \", w)\n",
    "    # replacing everything with space except (a-z, A-Z, \".\", \"?\", \"!\", \",\")\n",
    "    w = re.sub(r\"[^a-zA-Z?.!,¿]+\", \" \", w)\n",
    "    w = w.strip()\n",
    "    return w"
   ]
  },
  {
   "cell_type": "code",
   "execution_count": 0,
   "metadata": {
    "colab": {},
    "colab_type": "code",
    "id": "FZqeEmZg3qtt"
   },
   "outputs": [],
   "source": [
    "import nltk.translate.bleu_score as bleu\n",
    "from tqdm import tqdm_notebook\n",
    "import pandas as pd\n",
    "import warnings\n",
    "warnings.filterwarnings('ignore')"
   ]
  },
  {
   "cell_type": "code",
   "execution_count": 204,
   "metadata": {
    "colab": {
     "base_uri": "https://localhost:8080/",
     "height": 65,
     "referenced_widgets": [
      "ab97ffddf42646e2958994d840e336d5",
      "bb75882e293b488e862facda5b880a8d",
      "d874a4c585fb4ed38f8c7a6980094352",
      "947df25232b345feb166500878dba890",
      "5804e1d81a964c048b9e1245e029e225",
      "e67a76f5db584aa88d492cb943dfa808",
      "63f8ff7cfbb84497876e3b9b85a73020",
      "b06f586016e8445285d6c7d9b34200be"
     ]
    },
    "colab_type": "code",
    "id": "xhhWyfVaWZOW",
    "outputId": "de8b7ff0-0bc0-41f3-cc46-c8250a50d48f"
   },
   "outputs": [
    {
     "data": {
      "application/vnd.jupyter.widget-view+json": {
       "model_id": "ab97ffddf42646e2958994d840e336d5",
       "version_major": 2,
       "version_minor": 0
      },
      "text/plain": [
       "HBox(children=(IntProgress(value=1, bar_style='info', max=1), HTML(value='')))"
      ]
     },
     "metadata": {
      "tags": []
     },
     "output_type": "display_data"
    },
    {
     "name": "stdout",
     "output_type": "stream",
     "text": [
      "\n"
     ]
    }
   ],
   "source": [
    "l=np.zeros((len(input_val),3),dtype=object)\n",
    "i=0\n",
    "for inp,tar in tqdm_notebook(zip(input_val,target_val)):\n",
    "  x,_,_=evaluate(inp.lower())\n",
    "  translation=x[:-7].split(\" \")\n",
    "  l[i,0]= x[:-7]\n",
    "  reference=pre(tar)\n",
    "  l[i,1]= reference\n",
    "  reference=[reference.split(\" \")]\n",
    "  l[i,2]= bleu.sentence_bleu(reference, translation)\n",
    "  i+=1\n",
    "  "
   ]
  },
  {
   "cell_type": "code",
   "execution_count": 0,
   "metadata": {
    "colab": {},
    "colab_type": "code",
    "id": "YDCLP5IcWZOa"
   },
   "outputs": [],
   "source": [
    "df = pd.DataFrame(l, columns = ['translation','reference','BLEU'])"
   ]
  },
  {
   "cell_type": "code",
   "execution_count": 206,
   "metadata": {
    "colab": {
     "base_uri": "https://localhost:8080/",
     "height": 345
    },
    "colab_type": "code",
    "id": "KGtn2m6RWZOc",
    "outputId": "825597e6-728d-4966-ae23-3d502c29e76e"
   },
   "outputs": [
    {
     "data": {
      "text/html": [
       "<div>\n",
       "<style scoped>\n",
       "    .dataframe tbody tr th:only-of-type {\n",
       "        vertical-align: middle;\n",
       "    }\n",
       "\n",
       "    .dataframe tbody tr th {\n",
       "        vertical-align: top;\n",
       "    }\n",
       "\n",
       "    .dataframe thead th {\n",
       "        text-align: right;\n",
       "    }\n",
       "</style>\n",
       "<table border=\"1\" class=\"dataframe\">\n",
       "  <thead>\n",
       "    <tr style=\"text-align: right;\">\n",
       "      <th></th>\n",
       "      <th>translation</th>\n",
       "      <th>reference</th>\n",
       "      <th>BLEU</th>\n",
       "    </tr>\n",
       "  </thead>\n",
       "  <tbody>\n",
       "    <tr>\n",
       "      <th>0</th>\n",
       "      <td>il processo di tom durato tre giorni .</td>\n",
       "      <td>il processo di tom durato tre giorni .</td>\n",
       "      <td>1</td>\n",
       "    </tr>\n",
       "    <tr>\n",
       "      <th>1</th>\n",
       "      <td>ha iniziato a scrivere un romanzo .</td>\n",
       "      <td>lui ha iniziato a scrivere un romanzo .</td>\n",
       "      <td>0.866878</td>\n",
       "    </tr>\n",
       "    <tr>\n",
       "      <th>2</th>\n",
       "      <td>riposiamoci qua .</td>\n",
       "      <td>riposiamoci qui .</td>\n",
       "      <td>0.903602</td>\n",
       "    </tr>\n",
       "    <tr>\n",
       "      <th>3</th>\n",
       "      <td>arrivato verso le dieci ?</td>\n",
       "      <td>sono circa le dieci ?</td>\n",
       "      <td>0.562341</td>\n",
       "    </tr>\n",
       "    <tr>\n",
       "      <th>4</th>\n",
       "      <td>tom era sposato allora .</td>\n",
       "      <td>tom era sposato all epoca .</td>\n",
       "      <td>0.494739</td>\n",
       "    </tr>\n",
       "    <tr>\n",
       "      <th>5</th>\n",
       "      <td>metti gi quella pistola .</td>\n",
       "      <td>metti gi quella pistola .</td>\n",
       "      <td>1</td>\n",
       "    </tr>\n",
       "    <tr>\n",
       "      <th>6</th>\n",
       "      <td>ai bambini piace gli orsetti gommosi .</td>\n",
       "      <td>ai bambini piacciono gli orsetti gommosi .</td>\n",
       "      <td>0.488923</td>\n",
       "    </tr>\n",
       "    <tr>\n",
       "      <th>7</th>\n",
       "      <td>io devo dirlo a tom .</td>\n",
       "      <td>io lo devo dire a tom .</td>\n",
       "      <td>0.454802</td>\n",
       "    </tr>\n",
       "    <tr>\n",
       "      <th>8</th>\n",
       "      <td>sapevo che questo momento sarebbe venuto .</td>\n",
       "      <td>sapevo che questo momento sarebbe arrivato .</td>\n",
       "      <td>0.643459</td>\n",
       "    </tr>\n",
       "    <tr>\n",
       "      <th>9</th>\n",
       "      <td>non ho conosciuto nessuno .</td>\n",
       "      <td>io non ho incontrato nessuno .</td>\n",
       "      <td>0.651113</td>\n",
       "    </tr>\n",
       "  </tbody>\n",
       "</table>\n",
       "</div>"
      ],
      "text/plain": [
       "                                  translation  ...      BLEU\n",
       "0      il processo di tom durato tre giorni .  ...         1\n",
       "1         ha iniziato a scrivere un romanzo .  ...  0.866878\n",
       "2                           riposiamoci qua .  ...  0.903602\n",
       "3                   arrivato verso le dieci ?  ...  0.562341\n",
       "4                    tom era sposato allora .  ...  0.494739\n",
       "5                   metti gi quella pistola .  ...         1\n",
       "6      ai bambini piace gli orsetti gommosi .  ...  0.488923\n",
       "7                       io devo dirlo a tom .  ...  0.454802\n",
       "8  sapevo che questo momento sarebbe venuto .  ...  0.643459\n",
       "9                 non ho conosciuto nessuno .  ...  0.651113\n",
       "\n",
       "[10 rows x 3 columns]"
      ]
     },
     "execution_count": 206,
     "metadata": {
      "tags": []
     },
     "output_type": "execute_result"
    }
   ],
   "source": [
    "df.head(10)"
   ]
  },
  {
   "cell_type": "code",
   "execution_count": 207,
   "metadata": {
    "colab": {
     "base_uri": "https://localhost:8080/",
     "height": 33
    },
    "colab_type": "code",
    "id": "XrLccBRuWZOe",
    "outputId": "3116ed61-76f7-411d-f2f3-60bb63f9a4ed"
   },
   "outputs": [
    {
     "name": "stdout",
     "output_type": "stream",
     "text": [
      "Average BLEU score: 0.6724225114061425\n"
     ]
    }
   ],
   "source": [
    "score=df[\"BLEU\"].mean()\n",
    "print(\"Average BLEU score:\",score)"
   ]
  },
  {
   "cell_type": "markdown",
   "metadata": {
    "colab": {},
    "colab_type": "code",
    "id": "byRwFKkHX-Xo"
   },
   "source": [
    "## Conclusions:"
   ]
  },
  {
   "cell_type": "markdown",
   "metadata": {
    "colab": {},
    "colab_type": "code",
    "id": "0GJOWwhaYOjw"
   },
   "source": [
    "1. This model implents english to italian translation using luong attetion(using dot score)\n",
    "2. The model used 512 hidden units for GRU cell,256 as embedding dimension, batch size of 128\n",
    "3. The model was trainied for 10 epochs and achieved a cross entopy loss of 0.06 on train data\n",
    "4. The model was validated for 67,000 instances(test data) and achieved a BLEU score of 0.672"
   ]
  }
 ],
 "metadata": {
  "accelerator": "GPU",
  "colab": {
   "name": "Untitled.ipynb",
   "provenance": []
  },
  "kernelspec": {
   "display_name": "TensorFlow-GPU",
   "language": "python",
   "name": "tf-gpu"
  },
  "language_info": {
   "codemirror_mode": {
    "name": "ipython",
    "version": 3
   },
   "file_extension": ".py",
   "mimetype": "text/x-python",
   "name": "python",
   "nbconvert_exporter": "python",
   "pygments_lexer": "ipython3",
   "version": "3.7.6"
  },
  "widgets": {
   "application/vnd.jupyter.widget-state+json": {
    "5804e1d81a964c048b9e1245e029e225": {
     "model_module": "@jupyter-widgets/controls",
     "model_name": "ProgressStyleModel",
     "state": {
      "_model_module": "@jupyter-widgets/controls",
      "_model_module_version": "1.5.0",
      "_model_name": "ProgressStyleModel",
      "_view_count": null,
      "_view_module": "@jupyter-widgets/base",
      "_view_module_version": "1.2.0",
      "_view_name": "StyleView",
      "bar_color": null,
      "description_width": "initial"
     }
    },
    "63f8ff7cfbb84497876e3b9b85a73020": {
     "model_module": "@jupyter-widgets/controls",
     "model_name": "DescriptionStyleModel",
     "state": {
      "_model_module": "@jupyter-widgets/controls",
      "_model_module_version": "1.5.0",
      "_model_name": "DescriptionStyleModel",
      "_view_count": null,
      "_view_module": "@jupyter-widgets/base",
      "_view_module_version": "1.2.0",
      "_view_name": "StyleView",
      "description_width": ""
     }
    },
    "947df25232b345feb166500878dba890": {
     "model_module": "@jupyter-widgets/controls",
     "model_name": "HTMLModel",
     "state": {
      "_dom_classes": [],
      "_model_module": "@jupyter-widgets/controls",
      "_model_module_version": "1.5.0",
      "_model_name": "HTMLModel",
      "_view_count": null,
      "_view_module": "@jupyter-widgets/controls",
      "_view_module_version": "1.5.0",
      "_view_name": "HTMLView",
      "description": "",
      "description_tooltip": null,
      "layout": "IPY_MODEL_b06f586016e8445285d6c7d9b34200be",
      "placeholder": "​",
      "style": "IPY_MODEL_63f8ff7cfbb84497876e3b9b85a73020",
      "value": " 67323/? [1:56:45&lt;00:00,  9.61it/s]"
     }
    },
    "ab97ffddf42646e2958994d840e336d5": {
     "model_module": "@jupyter-widgets/controls",
     "model_name": "HBoxModel",
     "state": {
      "_dom_classes": [],
      "_model_module": "@jupyter-widgets/controls",
      "_model_module_version": "1.5.0",
      "_model_name": "HBoxModel",
      "_view_count": null,
      "_view_module": "@jupyter-widgets/controls",
      "_view_module_version": "1.5.0",
      "_view_name": "HBoxView",
      "box_style": "",
      "children": [
       "IPY_MODEL_d874a4c585fb4ed38f8c7a6980094352",
       "IPY_MODEL_947df25232b345feb166500878dba890"
      ],
      "layout": "IPY_MODEL_bb75882e293b488e862facda5b880a8d"
     }
    },
    "b06f586016e8445285d6c7d9b34200be": {
     "model_module": "@jupyter-widgets/base",
     "model_name": "LayoutModel",
     "state": {
      "_model_module": "@jupyter-widgets/base",
      "_model_module_version": "1.2.0",
      "_model_name": "LayoutModel",
      "_view_count": null,
      "_view_module": "@jupyter-widgets/base",
      "_view_module_version": "1.2.0",
      "_view_name": "LayoutView",
      "align_content": null,
      "align_items": null,
      "align_self": null,
      "border": null,
      "bottom": null,
      "display": null,
      "flex": null,
      "flex_flow": null,
      "grid_area": null,
      "grid_auto_columns": null,
      "grid_auto_flow": null,
      "grid_auto_rows": null,
      "grid_column": null,
      "grid_gap": null,
      "grid_row": null,
      "grid_template_areas": null,
      "grid_template_columns": null,
      "grid_template_rows": null,
      "height": null,
      "justify_content": null,
      "justify_items": null,
      "left": null,
      "margin": null,
      "max_height": null,
      "max_width": null,
      "min_height": null,
      "min_width": null,
      "object_fit": null,
      "object_position": null,
      "order": null,
      "overflow": null,
      "overflow_x": null,
      "overflow_y": null,
      "padding": null,
      "right": null,
      "top": null,
      "visibility": null,
      "width": null
     }
    },
    "bb75882e293b488e862facda5b880a8d": {
     "model_module": "@jupyter-widgets/base",
     "model_name": "LayoutModel",
     "state": {
      "_model_module": "@jupyter-widgets/base",
      "_model_module_version": "1.2.0",
      "_model_name": "LayoutModel",
      "_view_count": null,
      "_view_module": "@jupyter-widgets/base",
      "_view_module_version": "1.2.0",
      "_view_name": "LayoutView",
      "align_content": null,
      "align_items": null,
      "align_self": null,
      "border": null,
      "bottom": null,
      "display": null,
      "flex": null,
      "flex_flow": null,
      "grid_area": null,
      "grid_auto_columns": null,
      "grid_auto_flow": null,
      "grid_auto_rows": null,
      "grid_column": null,
      "grid_gap": null,
      "grid_row": null,
      "grid_template_areas": null,
      "grid_template_columns": null,
      "grid_template_rows": null,
      "height": null,
      "justify_content": null,
      "justify_items": null,
      "left": null,
      "margin": null,
      "max_height": null,
      "max_width": null,
      "min_height": null,
      "min_width": null,
      "object_fit": null,
      "object_position": null,
      "order": null,
      "overflow": null,
      "overflow_x": null,
      "overflow_y": null,
      "padding": null,
      "right": null,
      "top": null,
      "visibility": null,
      "width": null
     }
    },
    "d874a4c585fb4ed38f8c7a6980094352": {
     "model_module": "@jupyter-widgets/controls",
     "model_name": "IntProgressModel",
     "state": {
      "_dom_classes": [],
      "_model_module": "@jupyter-widgets/controls",
      "_model_module_version": "1.5.0",
      "_model_name": "IntProgressModel",
      "_view_count": null,
      "_view_module": "@jupyter-widgets/controls",
      "_view_module_version": "1.5.0",
      "_view_name": "ProgressView",
      "bar_style": "success",
      "description": "",
      "description_tooltip": null,
      "layout": "IPY_MODEL_e67a76f5db584aa88d492cb943dfa808",
      "max": 1,
      "min": 0,
      "orientation": "horizontal",
      "style": "IPY_MODEL_5804e1d81a964c048b9e1245e029e225",
      "value": 1
     }
    },
    "e67a76f5db584aa88d492cb943dfa808": {
     "model_module": "@jupyter-widgets/base",
     "model_name": "LayoutModel",
     "state": {
      "_model_module": "@jupyter-widgets/base",
      "_model_module_version": "1.2.0",
      "_model_name": "LayoutModel",
      "_view_count": null,
      "_view_module": "@jupyter-widgets/base",
      "_view_module_version": "1.2.0",
      "_view_name": "LayoutView",
      "align_content": null,
      "align_items": null,
      "align_self": null,
      "border": null,
      "bottom": null,
      "display": null,
      "flex": null,
      "flex_flow": null,
      "grid_area": null,
      "grid_auto_columns": null,
      "grid_auto_flow": null,
      "grid_auto_rows": null,
      "grid_column": null,
      "grid_gap": null,
      "grid_row": null,
      "grid_template_areas": null,
      "grid_template_columns": null,
      "grid_template_rows": null,
      "height": null,
      "justify_content": null,
      "justify_items": null,
      "left": null,
      "margin": null,
      "max_height": null,
      "max_width": null,
      "min_height": null,
      "min_width": null,
      "object_fit": null,
      "object_position": null,
      "order": null,
      "overflow": null,
      "overflow_x": null,
      "overflow_y": null,
      "padding": null,
      "right": null,
      "top": null,
      "visibility": null,
      "width": null
     }
    }
   }
  }
 },
 "nbformat": 4,
 "nbformat_minor": 1
}
