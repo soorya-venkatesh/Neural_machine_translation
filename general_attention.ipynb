{
 "cells": [
  {
   "cell_type": "code",
   "execution_count": 0,
   "metadata": {
    "colab": {},
    "colab_type": "code",
    "id": "J81W5zcNWZNS"
   },
   "outputs": [],
   "source": [
    "import pandas as pd\n",
    "import unicodedata\n",
    "import re\n",
    "import io\n",
    "import tensorflow as tf\n",
    "from sklearn.model_selection import train_test_split\n",
    "import os\n",
    "import time\n",
    "import numpy as np\n",
    "import matplotlib.pyplot as plt\n",
    "import matplotlib.ticker as ticker"
   ]
  },
  {
   "cell_type": "code",
   "execution_count": 2,
   "metadata": {
    "colab": {
     "base_uri": "https://localhost:8080/",
     "height": 201
    },
    "colab_type": "code",
    "id": "1ZslQDvjtf5W",
    "outputId": "7dbe34be-8a9c-42bc-e708-38e421ff4a41"
   },
   "outputs": [
    {
     "name": "stdout",
     "output_type": "stream",
     "text": [
      "--2020-05-08 10:22:07--  http://www.manythings.org/anki/ita-eng.zip\n",
      "Resolving www.manythings.org (www.manythings.org)... 104.24.108.196, 104.24.109.196, 2606:4700:3037::6818:6cc4, ...\n",
      "Connecting to www.manythings.org (www.manythings.org)|104.24.108.196|:80... connected.\n",
      "HTTP request sent, awaiting response... 200 OK\n",
      "Length: 7345811 (7.0M) [application/zip]\n",
      "Saving to: ‘ita-eng.zip’\n",
      "\n",
      "ita-eng.zip         100%[===================>]   7.00M  3.73MB/s    in 1.9s    \n",
      "\n",
      "2020-05-08 10:22:09 (3.73 MB/s) - ‘ita-eng.zip’ saved [7345811/7345811]\n",
      "\n"
     ]
    }
   ],
   "source": [
    "! wget --header=\"Host: www.manythings.org\" --header=\"User-Agent: Mozilla/5.0 (Windows NT 10.0; Win64; x64) AppleWebKit/537.36 (KHTML, like Gecko) Chrome/81.0.4044.138 Safari/537.36\" --header=\"Accept: text/html,application/xhtml+xml,application/xml;q=0.9,image/webp,image/apng,*/*;q=0.8,application/signed-exchange;v=b3;q=0.9\" --header=\"Accept-Language: en-US,en;q=0.9\" --header=\"Referer: http://localhost:8889/notebooks/A26%20seq%20models/Seq2SeqImplementation_Assignment.ipynb\" --header=\"Cookie: __cfduid=d5d6483053d8f553a16e3797411e7fdb81587740885\" --header=\"Connection: keep-alive\" \"http://www.manythings.org/anki/ita-eng.zip\" -c -O 'ita-eng.zip'"
   ]
  },
  {
   "cell_type": "code",
   "execution_count": 3,
   "metadata": {
    "colab": {
     "base_uri": "https://localhost:8080/",
     "height": 67
    },
    "colab_type": "code",
    "id": "PDPyZtPQtrUj",
    "outputId": "c4117452-a55a-4a38-f63b-cb6e9c53f063"
   },
   "outputs": [
    {
     "name": "stdout",
     "output_type": "stream",
     "text": [
      "Archive:  ita-eng.zip\n",
      "  inflating: ita.txt                 \n",
      "  inflating: _about.txt              \n"
     ]
    }
   ],
   "source": [
    "! unzip ita-eng.zip"
   ]
  },
  {
   "cell_type": "markdown",
   "metadata": {},
   "source": [
    "### Importing and processing the data"
   ]
  },
  {
   "cell_type": "code",
   "execution_count": 0,
   "metadata": {
    "colab": {},
    "colab_type": "code",
    "id": "gdwmbMp7WZNW"
   },
   "outputs": [],
   "source": [
    "def unicode_to_ascii(s):\n",
    "    \n",
    "      return ''.join(c for c in unicodedata.normalize('NFD', s)\n",
    "          if unicodedata.category(c) != 'Mn')\n",
    "\n",
    "\n",
    "def preprocess_sentence(w):\n",
    "\n",
    "    #w = unicode_to_ascii(w.lower().strip())\n",
    "\n",
    "    # creating a space between a word and the punctuation following it\n",
    "    # eg: \"he is a boy.\" => \"he is a boy .\"\n",
    "    # Reference:- https://stackoverflow.com/questions/3645931/python-padding-punctuation-with-white-spaces-keeping-punctuation\n",
    "    w = re.sub(r\"([?.!,¿])\", r\" \\1 \", w)\n",
    "    w = re.sub(r'[\" \"]+', \" \", w)\n",
    "\n",
    "    # replacing everything with space except (a-z, A-Z, \".\", \"?\", \"!\", \",\")\n",
    "    w = re.sub(r\"[^a-zA-Z?.!,¿]+\", \" \", w)\n",
    "\n",
    "    w = w.strip()\n",
    "\n",
    "    # adding a start and an end token to the sentence\n",
    "    # so that the model know when to start and stop predicting.\n",
    "    w = '<start> ' + w + ' <end>'\n",
    "    return w"
   ]
  },
  {
   "cell_type": "code",
   "execution_count": 0,
   "metadata": {
    "colab": {},
    "colab_type": "code",
    "id": "yJPAq3sDWZNY"
   },
   "outputs": [],
   "source": [
    "lines = io.open('ita.txt', encoding='UTF-8').read().strip().split('\\n')"
   ]
  },
  {
   "cell_type": "code",
   "execution_count": 0,
   "metadata": {
    "colab": {},
    "colab_type": "code",
    "id": "dbQW8l2mWZNa"
   },
   "outputs": [],
   "source": [
    "english=[]\n",
    "spanish=[]\n",
    "for n in range(0,len(lines)):\n",
    "    a=lines[n]\n",
    "    i=(a.find('CC-BY'))\n",
    "    a=a[:i].split('\\t')\n",
    "    english.append(a[0])\n",
    "    spanish.append(a[1])"
   ]
  },
  {
   "cell_type": "code",
   "execution_count": 0,
   "metadata": {
    "colab": {},
    "colab_type": "code",
    "id": "Da5T3xpRWZNc"
   },
   "outputs": [],
   "source": [
    "processed_eng=[]\n",
    "processed_spa=[]\n",
    "for i,j in zip(english,spanish):\n",
    "    temp=preprocess_sentence(i)\n",
    "    processed_eng.append(temp)\n",
    "    temp=preprocess_sentence(j)\n",
    "    processed_spa.append(temp)"
   ]
  },
  {
   "cell_type": "code",
   "execution_count": 0,
   "metadata": {
    "colab": {},
    "colab_type": "code",
    "id": "xjur9tbeWZNe"
   },
   "outputs": [],
   "source": [
    "data=pd.DataFrame(list(zip(processed_eng, processed_spa)),columns =['English', 'Spanish'])"
   ]
  },
  {
   "cell_type": "code",
   "execution_count": 9,
   "metadata": {
    "colab": {
     "base_uri": "https://localhost:8080/",
     "height": 33
    },
    "colab_type": "code",
    "id": "x3Wvvm0VWZNh",
    "outputId": "1eec6147-2cba-41b4-c189-af3b7ed3fccb"
   },
   "outputs": [
    {
     "data": {
      "text/plain": [
       "(336614, 2)"
      ]
     },
     "execution_count": 9,
     "metadata": {
      "tags": []
     },
     "output_type": "execute_result"
    }
   ],
   "source": [
    "data.shape"
   ]
  },
  {
   "cell_type": "code",
   "execution_count": 10,
   "metadata": {
    "colab": {
     "base_uri": "https://localhost:8080/",
     "height": 196
    },
    "colab_type": "code",
    "id": "k90j5bHKWZNl",
    "outputId": "cd10c60b-d041-432b-d6e0-e617aca15a88"
   },
   "outputs": [
    {
     "data": {
      "text/html": [
       "<div>\n",
       "<style scoped>\n",
       "    .dataframe tbody tr th:only-of-type {\n",
       "        vertical-align: middle;\n",
       "    }\n",
       "\n",
       "    .dataframe tbody tr th {\n",
       "        vertical-align: top;\n",
       "    }\n",
       "\n",
       "    .dataframe thead th {\n",
       "        text-align: right;\n",
       "    }\n",
       "</style>\n",
       "<table border=\"1\" class=\"dataframe\">\n",
       "  <thead>\n",
       "    <tr style=\"text-align: right;\">\n",
       "      <th></th>\n",
       "      <th>English</th>\n",
       "      <th>Spanish</th>\n",
       "    </tr>\n",
       "  </thead>\n",
       "  <tbody>\n",
       "    <tr>\n",
       "      <th>0</th>\n",
       "      <td>&lt;start&gt; Hi . &lt;end&gt;</td>\n",
       "      <td>&lt;start&gt; Ciao ! &lt;end&gt;</td>\n",
       "    </tr>\n",
       "    <tr>\n",
       "      <th>1</th>\n",
       "      <td>&lt;start&gt; Run ! &lt;end&gt;</td>\n",
       "      <td>&lt;start&gt; Corri ! &lt;end&gt;</td>\n",
       "    </tr>\n",
       "    <tr>\n",
       "      <th>2</th>\n",
       "      <td>&lt;start&gt; Run ! &lt;end&gt;</td>\n",
       "      <td>&lt;start&gt; Corra ! &lt;end&gt;</td>\n",
       "    </tr>\n",
       "    <tr>\n",
       "      <th>3</th>\n",
       "      <td>&lt;start&gt; Run ! &lt;end&gt;</td>\n",
       "      <td>&lt;start&gt; Correte ! &lt;end&gt;</td>\n",
       "    </tr>\n",
       "    <tr>\n",
       "      <th>4</th>\n",
       "      <td>&lt;start&gt; Who ? &lt;end&gt;</td>\n",
       "      <td>&lt;start&gt; Chi ? &lt;end&gt;</td>\n",
       "    </tr>\n",
       "  </tbody>\n",
       "</table>\n",
       "</div>"
      ],
      "text/plain": [
       "               English                  Spanish\n",
       "0   <start> Hi . <end>     <start> Ciao ! <end>\n",
       "1  <start> Run ! <end>    <start> Corri ! <end>\n",
       "2  <start> Run ! <end>    <start> Corra ! <end>\n",
       "3  <start> Run ! <end>  <start> Correte ! <end>\n",
       "4  <start> Who ? <end>      <start> Chi ? <end>"
      ]
     },
     "execution_count": 10,
     "metadata": {
      "tags": []
     },
     "output_type": "execute_result"
    }
   ],
   "source": [
    "data.head()"
   ]
  },
  {
   "cell_type": "code",
   "execution_count": 0,
   "metadata": {
    "colab": {},
    "colab_type": "code",
    "id": "LK0NOEOCWZNn"
   },
   "outputs": [],
   "source": [
    "def tokenize(lang):\n",
    "    \n",
    "    lang_tokenizer = tf.keras.preprocessing.text.Tokenizer(filters='')\n",
    "    lang_tokenizer.fit_on_texts(lang)\n",
    "\n",
    "    tensor = lang_tokenizer.texts_to_sequences(lang)\n",
    "\n",
    "    tensor = tf.keras.preprocessing.sequence.pad_sequences(tensor,\n",
    "                                                         padding='post')\n",
    "\n",
    "    return tensor, lang_tokenizer"
   ]
  },
  {
   "cell_type": "code",
   "execution_count": 0,
   "metadata": {
    "colab": {},
    "colab_type": "code",
    "id": "p1aK1VstWZNo"
   },
   "outputs": [],
   "source": [
    "english_tensor,english_tokenizer=tokenize(processed_eng)\n",
    "spanish_tensor,spanish_tokenizer=tokenize(processed_spa)"
   ]
  },
  {
   "cell_type": "markdown",
   "metadata": {},
   "source": [
    "#### train-test split for tensor and unporcessed sentences using same random seed. the latter will be used in evalyuation stage "
   ]
  },
  {
   "cell_type": "code",
   "execution_count": 0,
   "metadata": {
    "colab": {},
    "colab_type": "code",
    "id": "sgNfUnlgWZNq"
   },
   "outputs": [],
   "source": [
    "input_tensor_train, input_tensor_val, target_tensor_train, target_tensor_val = train_test_split(english_tensor, spanish_tensor, test_size=0.2,random_state=42)\n",
    "input_train, input_val, target_train, target_val = train_test_split(english, spanish, test_size=0.2, random_state=42)"
   ]
  },
  {
   "cell_type": "code",
   "execution_count": 0,
   "metadata": {
    "colab": {},
    "colab_type": "code",
    "id": "A-w21SBinjek"
   },
   "outputs": [],
   "source": [
    "max_length_targ, max_length_inp = spanish_tensor.shape[1], english_tensor.shape[1]"
   ]
  },
  {
   "cell_type": "markdown",
   "metadata": {},
   "source": [
    "### Setting Hyper parameters "
   ]
  },
  {
   "cell_type": "code",
   "execution_count": 0,
   "metadata": {
    "colab": {},
    "colab_type": "code",
    "id": "2jI-6fsfWZNs"
   },
   "outputs": [],
   "source": [
    "BUFFER_SIZE = len(input_tensor_train)\n",
    "BATCH_SIZE = 128\n",
    "steps_per_epoch = len(input_tensor_train)//BATCH_SIZE\n",
    "embedding_dim = 256\n",
    "units = 512\n",
    "vocab_inp_size = len(english_tokenizer.word_index)+1\n",
    "vocab_tar_size = len(spanish_tokenizer.word_index)+1\n",
    "\n",
    "#tf.data.Dataset.from_tensor.slices\n",
    "dataset = tf.data.Dataset.from_tensor_slices((input_tensor_train, target_tensor_train)).shuffle(BUFFER_SIZE)\n",
    "dataset = dataset.batch(BATCH_SIZE, drop_remainder=True)"
   ]
  },
  {
   "cell_type": "code",
   "execution_count": 16,
   "metadata": {
    "colab": {
     "base_uri": "https://localhost:8080/",
     "height": 33
    },
    "colab_type": "code",
    "id": "kGQUScL0WZNv",
    "outputId": "cbe5465a-edde-402c-f1eb-e77aa0f9f967"
   },
   "outputs": [
    {
     "data": {
      "text/plain": [
       "(TensorShape([128, 53]), TensorShape([128, 55]))"
      ]
     },
     "execution_count": 16,
     "metadata": {
      "tags": []
     },
     "output_type": "execute_result"
    }
   ],
   "source": [
    "example_input_batch, example_target_batch = next(iter(dataset))\n",
    "example_input_batch.shape, example_target_batch.shape"
   ]
  },
  {
   "cell_type": "markdown",
   "metadata": {},
   "source": [
    "### Defining classes for Encoder, Luong Attention, Decoder "
   ]
  },
  {
   "cell_type": "code",
   "execution_count": 0,
   "metadata": {
    "colab": {},
    "colab_type": "code",
    "id": "DroLdxN8WZNx"
   },
   "outputs": [],
   "source": [
    "class Encoder(tf.keras.Model):\n",
    "    \n",
    "    def __init__(self, vocab_size, embedding_dim, enc_units, batch_sz):\n",
    "        super(Encoder, self).__init__()\n",
    "        self.batch_sz = batch_sz\n",
    "        self.enc_units = enc_units\n",
    "        self.embedding = tf.keras.layers.Embedding(vocab_size, embedding_dim)\n",
    "        self.gru = tf.keras.layers.GRU(self.enc_units,\n",
    "                                       return_sequences=True,\n",
    "                                       return_state=True,\n",
    "                                       recurrent_initializer='glorot_uniform')\n",
    "\n",
    "    def call(self, x, hidden):\n",
    "        x = self.embedding(x)\n",
    "        output, state = self.gru(x, initial_state = hidden)\n",
    "        return output, state\n",
    "\n",
    "    def initialize_hidden_state(self):\n",
    "        return tf.zeros((self.batch_sz, self.enc_units))"
   ]
  },
  {
   "cell_type": "code",
   "execution_count": 0,
   "metadata": {
    "colab": {},
    "colab_type": "code",
    "id": "tHOIRC1jWZN1"
   },
   "outputs": [],
   "source": [
    "class luongAttention(tf.keras.layers.Layer):\n",
    "    \n",
    "    def __init__(self, rnn_size,function_type):\n",
    "        \n",
    "        super(luongAttention, self).__init__()\n",
    "        self.attention_func = function_type\n",
    "        \n",
    "        if self.attention_func == 'general':\n",
    "            # General score function\n",
    "            self.Wa = tf.keras.layers.Dense(rnn_size)\n",
    "        elif self.attention_func == 'concat':\n",
    "            # Concat score function\n",
    "            self.Wa = tf.keras.layers.Dense(rnn_size, activation='tanh')\n",
    "            self.va = tf.keras.layers.Dense(1)\n",
    "        \n",
    "\n",
    "    def call(self, query, values):\n",
    "        \n",
    "        #t=tf.expand_dims(query, 1)\n",
    "        t=query\n",
    "        \n",
    "        if self.attention_func=='dot':\n",
    "            #values:(batchsize,max_len,rnnsize)\n",
    "            #query:(batchsize,1,rnnsize)\n",
    "            #score:(batchsize,1,maxlen)\n",
    "            score=tf.matmul(t, (values),transpose_b=True)\n",
    "            #print(score.shape)\n",
    "\n",
    "        if self.attention_func=='general':\n",
    "            #values:(batchsize,max_len,rnnsize)\n",
    "            #query:(batchsize,1,rnnsize)\n",
    "            values=self.Wa(values) #shape=(batchsize,max_len,rnnsize)\n",
    "            score=tf.matmul(t, (values),transpose_b=True) #shape=(batchsize,1,maxlen)\n",
    "            #print(score.shape)\n",
    "            \n",
    "        if self.attention_func=='concat':\n",
    "            \n",
    "            t=tf.tile(t, [1, values.shape[1],1]) #broadcasting done; shape=(batchsize,maxlen,rnnsize)\n",
    "            temp=tf.concat((t, values), axis=-1) #shape=(batchsize,maxlen,2*rnnsize)\n",
    "            temp=self.Wa(temp)# shape=(batchsize,maxlen,rnnsize)\n",
    "            score=self.va(temp)# shape=(batchsize,maxlen,1)\n",
    "            score=tf.transpose(score,[0,2,1]) #shape=(batchsize,1,maxlen)\n",
    "            #print(score.shape)\n",
    "        \n",
    "        alignment = tf.nn.softmax(score, axis=2)\n",
    "        context = tf.matmul(alignment, values)\n",
    "\n",
    "        return context, alignment\n",
    "            \n"
   ]
  },
  {
   "cell_type": "code",
   "execution_count": 0,
   "metadata": {
    "colab": {},
    "colab_type": "code",
    "id": "klh45LEUWZN_"
   },
   "outputs": [],
   "source": [
    "class Decoder(tf.keras.Model):\n",
    "    def __init__(self, vocab_size, embedding_size, rnn_size,func):\n",
    "        super(Decoder, self).__init__()\n",
    "        \n",
    "        self.attention = luongAttention(rnn_size,func)\n",
    "\n",
    "        self.rnn_size = rnn_size\n",
    "        self.embedding = tf.keras.layers.Embedding(vocab_size, embedding_size)\n",
    "        self.gru = tf.keras.layers.GRU(self.rnn_size,\n",
    "                                        return_sequences=True,\n",
    "                                        return_state=True,\n",
    "                                        recurrent_initializer='glorot_uniform') \n",
    "        \n",
    "        self.wc = tf.keras.layers.Dense(rnn_size, activation='tanh')\n",
    "        self.ws = tf.keras.layers.Dense(vocab_size)\n",
    "\n",
    "    def call(self, sequence, state, encoder_output):\n",
    "        # Remember that the input to the decoder\n",
    "        # is now a batch of one-word sequences,\n",
    "        # which means that its shape is (batch_size, 1)\n",
    "        embed = self.embedding(sequence)\n",
    "        \n",
    "        # Therefore, the lstm_out has shape (batch_size, 1, rnn_size)\n",
    "        #lstm_out, state_h, state_c = self.lstm(embed, initial_state=state)\n",
    "        lstm_out, state = self.gru(embed,initial_state=state)\n",
    "        \n",
    "        # Use self.attention to compute the context and alignment vectors\n",
    "        # context vector's shape: (batch_size, 1, rnn_size)\n",
    "        # alignment vector's shape: (batch_size, 1, source_length)\n",
    "        context, alignment = self.attention(lstm_out, encoder_output)\n",
    "        \n",
    "        \n",
    "        # Combine the context vector and the LSTM output\n",
    "        # Before combined, both have shape of (batch_size, 1, rnn_size),\n",
    "        # so let's squeeze the axis 1 first\n",
    "        # After combined, it will have shape of (batch_size, 2 * rnn_size)\n",
    "        lstm_out = tf.concat([tf.squeeze(context, 1), tf.squeeze(lstm_out, 1)], 1)\n",
    "        \n",
    "        # lstm_out now has shape (batch_size, rnn_size)\n",
    "        lstm_out = self.wc(lstm_out)\n",
    "        logits = self.ws(lstm_out)\n",
    "        #print(logits.shape)\n",
    "       \n",
    "        \n",
    "        return logits,state,alignment\n",
    "        \n",
    "        "
   ]
  },
  {
   "cell_type": "code",
   "execution_count": 0,
   "metadata": {
    "colab": {},
    "colab_type": "code",
    "id": "u5OzJ_3sWZOC"
   },
   "outputs": [],
   "source": [
    "optimizer = tf.keras.optimizers.Adam()\n",
    "\n",
    "loss_object = tf.keras.losses.SparseCategoricalCrossentropy(\n",
    "    from_logits=True, reduction='none')\n",
    "\n",
    "def loss_function(real, pred):\n",
    "    mask = tf.math.logical_not(tf.math.equal(real, 0))\n",
    "    loss_ = loss_object(real, pred)\n",
    "    mask = tf.cast(mask, dtype=loss_.dtype)\n",
    "    loss_ *= mask\n",
    "    return tf.reduce_mean(loss_)"
   ]
  },
  {
   "cell_type": "markdown",
   "metadata": {},
   "source": [
    "#### Train step function uses training data to make predictions using teacher forcing and find gradients for the weights"
   ]
  },
  {
   "cell_type": "code",
   "execution_count": 0,
   "metadata": {
    "colab": {},
    "colab_type": "code",
    "id": "faQCj-yZWZOF"
   },
   "outputs": [],
   "source": [
    "@tf.function\n",
    "def train_step(inp, targ, enc_hidden):\n",
    "    \n",
    "    loss = 0\n",
    "\n",
    "    with tf.GradientTape() as tape:\n",
    "        \n",
    "        enc_output, enc_hidden = encoder(inp, enc_hidden)\n",
    "\n",
    "        dec_hidden = enc_hidden\n",
    "\n",
    "        dec_input = tf.expand_dims([spanish_tokenizer.word_index['<start>']] * BATCH_SIZE, 1)\n",
    "\n",
    "        # Teacher forcing - feeding the target as the next input\n",
    "        for t in range(1, targ.shape[1]):\n",
    "            \n",
    "            #passing enc_output to the decoder\n",
    "            predictions, dec_hidden, _ = decoder(dec_input, dec_hidden, enc_output)\n",
    "\n",
    "            loss += loss_function(targ[:, t], predictions)\n",
    "\n",
    "            # using teacher forcing\n",
    "            dec_input = tf.expand_dims(targ[:, t], 1)\n",
    "\n",
    "    batch_loss = (loss / int(targ.shape[1]))\n",
    "\n",
    "    variables = encoder.trainable_variables + decoder.trainable_variables\n",
    "\n",
    "    gradients = tape.gradient(loss, variables)\n",
    "\n",
    "    optimizer.apply_gradients(zip(gradients, variables))\n",
    "\n",
    "    return batch_loss"
   ]
  },
  {
   "cell_type": "markdown",
   "metadata": {},
   "source": [
    "#### Instatiating encoder and decoder classes"
   ]
  },
  {
   "cell_type": "code",
   "execution_count": 0,
   "metadata": {
    "colab": {},
    "colab_type": "code",
    "id": "5ajg2bl1l2RK"
   },
   "outputs": [],
   "source": [
    "encoder = Encoder(vocab_inp_size, embedding_dim, units, BATCH_SIZE)\n",
    "decoder=Decoder(vocab_tar_size, embedding_dim, units,\"general\")"
   ]
  },
  {
   "cell_type": "code",
   "execution_count": 0,
   "metadata": {
    "colab": {},
    "colab_type": "code",
    "id": "T10Vw5PBmDVj"
   },
   "outputs": [],
   "source": [
    "checkpoint_dir = './training_checkpoints'\n",
    "checkpoint_prefix = os.path.join(checkpoint_dir, \"ckpt\")\n",
    "checkpoint = tf.train.Checkpoint(optimizer=optimizer,\n",
    "                                 encoder=encoder,\n",
    "                                 decoder=decoder)"
   ]
  },
  {
   "cell_type": "markdown",
   "metadata": {},
   "source": [
    "### Training for 10 epochs"
   ]
  },
  {
   "cell_type": "code",
   "execution_count": 24,
   "metadata": {
    "colab": {
     "base_uri": "https://localhost:8080/",
     "height": 1000
    },
    "colab_type": "code",
    "id": "bt2FFTd_WZOI",
    "outputId": "07a513dd-aaaf-427b-8db8-79ec08bc60b6"
   },
   "outputs": [
    {
     "name": "stdout",
     "output_type": "stream",
     "text": [
      "Epoch 1 Batch 0 Loss 1.3552\n",
      "Epoch 1 Batch 100 Loss 0.7445\n",
      "Epoch 1 Batch 200 Loss 0.7167\n",
      "Epoch 1 Batch 300 Loss 0.7462\n",
      "Epoch 1 Batch 400 Loss 0.6462\n",
      "Epoch 1 Batch 500 Loss 0.6255\n",
      "Epoch 1 Batch 600 Loss 0.6710\n",
      "Epoch 1 Batch 700 Loss 0.7070\n",
      "Epoch 1 Batch 800 Loss 0.7163\n",
      "Epoch 1 Batch 900 Loss 0.6494\n",
      "Epoch 1 Batch 1000 Loss 0.6367\n",
      "Epoch 1 Batch 1100 Loss 0.5149\n",
      "Epoch 1 Batch 1200 Loss 0.5356\n",
      "Epoch 1 Batch 1300 Loss 0.5138\n",
      "Epoch 1 Batch 1400 Loss 0.4658\n",
      "Epoch 1 Batch 1500 Loss 0.4180\n",
      "Epoch 1 Batch 1600 Loss 0.4129\n",
      "Epoch 1 Batch 1700 Loss 0.3972\n",
      "Epoch 1 Batch 1800 Loss 0.3689\n",
      "Epoch 1 Batch 1900 Loss 0.3922\n",
      "Epoch 1 Batch 2000 Loss 0.3377\n",
      "Epoch 1 Batch 2100 Loss 0.3195\n",
      "Epoch 1 Loss 0.5682\n",
      "Time taken for 1 epoch 1536.6585760116577 sec\n",
      "\n",
      "Epoch 2 Batch 0 Loss 0.3097\n",
      "Epoch 2 Batch 100 Loss 0.3267\n",
      "Epoch 2 Batch 200 Loss 0.2870\n",
      "Epoch 2 Batch 300 Loss 0.2333\n",
      "Epoch 2 Batch 400 Loss 0.2327\n",
      "Epoch 2 Batch 500 Loss 0.2569\n",
      "Epoch 2 Batch 600 Loss 0.2431\n",
      "Epoch 2 Batch 700 Loss 0.2258\n",
      "Epoch 2 Batch 800 Loss 0.2172\n",
      "Epoch 2 Batch 900 Loss 0.2220\n",
      "Epoch 2 Batch 1000 Loss 0.2121\n",
      "Epoch 2 Batch 1100 Loss 0.2258\n",
      "Epoch 2 Batch 1200 Loss 0.1615\n",
      "Epoch 2 Batch 1300 Loss 0.1954\n",
      "Epoch 2 Batch 1400 Loss 0.1576\n",
      "Epoch 2 Batch 1500 Loss 0.1718\n",
      "Epoch 2 Batch 1600 Loss 0.1743\n",
      "Epoch 2 Batch 1700 Loss 0.1428\n",
      "Epoch 2 Batch 1800 Loss 0.1630\n",
      "Epoch 2 Batch 1900 Loss 0.1331\n",
      "Epoch 2 Batch 2000 Loss 0.1596\n",
      "Epoch 2 Batch 2100 Loss 0.1681\n",
      "Epoch 2 Loss 0.2065\n",
      "Time taken for 1 epoch 1495.5316739082336 sec\n",
      "\n",
      "Epoch 3 Batch 0 Loss 0.1218\n",
      "Epoch 3 Batch 100 Loss 0.1341\n",
      "Epoch 3 Batch 200 Loss 0.1155\n",
      "Epoch 3 Batch 300 Loss 0.1200\n",
      "Epoch 3 Batch 400 Loss 0.1370\n",
      "Epoch 3 Batch 500 Loss 0.1085\n",
      "Epoch 3 Batch 600 Loss 0.1235\n",
      "Epoch 3 Batch 700 Loss 0.1158\n",
      "Epoch 3 Batch 800 Loss 0.1386\n",
      "Epoch 3 Batch 900 Loss 0.1342\n",
      "Epoch 3 Batch 1000 Loss 0.1145\n",
      "Epoch 3 Batch 1100 Loss 0.1126\n",
      "Epoch 3 Batch 1200 Loss 0.1252\n",
      "Epoch 3 Batch 1300 Loss 0.1198\n",
      "Epoch 3 Batch 1400 Loss 0.1135\n",
      "Epoch 3 Batch 1500 Loss 0.1265\n",
      "Epoch 3 Batch 1600 Loss 0.1088\n",
      "Epoch 3 Batch 1700 Loss 0.1069\n",
      "Epoch 3 Batch 1800 Loss 0.1387\n",
      "Epoch 3 Batch 1900 Loss 0.1144\n",
      "Epoch 3 Batch 2000 Loss 0.1060\n",
      "Epoch 3 Batch 2100 Loss 0.1496\n",
      "Epoch 3 Loss 0.1187\n",
      "Time taken for 1 epoch 1497.2061874866486 sec\n",
      "\n",
      "Epoch 4 Batch 0 Loss 0.0889\n",
      "Epoch 4 Batch 100 Loss 0.0753\n",
      "Epoch 4 Batch 200 Loss 0.0774\n",
      "Epoch 4 Batch 300 Loss 0.0845\n",
      "Epoch 4 Batch 400 Loss 0.0866\n",
      "Epoch 4 Batch 500 Loss 0.0930\n",
      "Epoch 4 Batch 600 Loss 0.0882\n",
      "Epoch 4 Batch 700 Loss 0.0892\n",
      "Epoch 4 Batch 800 Loss 0.1042\n",
      "Epoch 4 Batch 900 Loss 0.0856\n",
      "Epoch 4 Batch 1000 Loss 0.0945\n",
      "Epoch 4 Batch 1100 Loss 0.0882\n",
      "Epoch 4 Batch 1200 Loss 0.0896\n",
      "Epoch 4 Batch 1300 Loss 0.0816\n",
      "Epoch 4 Batch 1400 Loss 0.0973\n",
      "Epoch 4 Batch 1500 Loss 0.1018\n",
      "Epoch 4 Batch 1600 Loss 0.0894\n",
      "Epoch 4 Batch 1700 Loss 0.0840\n",
      "Epoch 4 Batch 1800 Loss 0.0874\n",
      "Epoch 4 Batch 1900 Loss 0.0945\n",
      "Epoch 4 Batch 2000 Loss 0.0917\n",
      "Epoch 4 Batch 2100 Loss 0.0814\n",
      "Epoch 4 Loss 0.0912\n",
      "Time taken for 1 epoch 1490.3378157615662 sec\n",
      "\n",
      "Epoch 5 Batch 0 Loss 0.0752\n",
      "Epoch 5 Batch 100 Loss 0.0650\n",
      "Epoch 5 Batch 200 Loss 0.0716\n",
      "Epoch 5 Batch 300 Loss 0.0628\n",
      "Epoch 5 Batch 400 Loss 0.0623\n",
      "Epoch 5 Batch 500 Loss 0.0793\n",
      "Epoch 5 Batch 600 Loss 0.0832\n",
      "Epoch 5 Batch 700 Loss 0.0791\n",
      "Epoch 5 Batch 800 Loss 0.0779\n",
      "Epoch 5 Batch 900 Loss 0.0798\n",
      "Epoch 5 Batch 1000 Loss 0.0743\n",
      "Epoch 5 Batch 1100 Loss 0.0886\n",
      "Epoch 5 Batch 1200 Loss 0.0773\n",
      "Epoch 5 Batch 1300 Loss 0.0769\n",
      "Epoch 5 Batch 1400 Loss 0.0789\n",
      "Epoch 5 Batch 1500 Loss 0.0693\n",
      "Epoch 5 Batch 1600 Loss 0.1041\n",
      "Epoch 5 Batch 1700 Loss 0.0782\n",
      "Epoch 5 Batch 1800 Loss 0.0824\n",
      "Epoch 5 Batch 1900 Loss 0.0915\n",
      "Epoch 5 Batch 2000 Loss 0.0666\n",
      "Epoch 5 Batch 2100 Loss 0.0963\n",
      "Epoch 5 Loss 0.0781\n",
      "Time taken for 1 epoch 1489.9910833835602 sec\n",
      "\n",
      "Epoch 6 Batch 0 Loss 0.0626\n",
      "Epoch 6 Batch 100 Loss 0.0622\n",
      "Epoch 6 Batch 200 Loss 0.0662\n",
      "Epoch 6 Batch 300 Loss 0.0660\n",
      "Epoch 6 Batch 400 Loss 0.0741\n",
      "Epoch 6 Batch 500 Loss 0.0693\n",
      "Epoch 6 Batch 600 Loss 0.0597\n",
      "Epoch 6 Batch 700 Loss 0.0645\n",
      "Epoch 6 Batch 800 Loss 0.0692\n",
      "Epoch 6 Batch 900 Loss 0.0819\n",
      "Epoch 6 Batch 1000 Loss 0.0716\n",
      "Epoch 6 Batch 1100 Loss 0.0728\n",
      "Epoch 6 Batch 1200 Loss 0.0721\n",
      "Epoch 6 Batch 1300 Loss 0.0678\n",
      "Epoch 6 Batch 1400 Loss 0.0699\n",
      "Epoch 6 Batch 1500 Loss 0.0710\n",
      "Epoch 6 Batch 1600 Loss 0.0661\n",
      "Epoch 6 Batch 1700 Loss 0.0735\n",
      "Epoch 6 Batch 1800 Loss 0.0793\n",
      "Epoch 6 Batch 1900 Loss 0.0716\n",
      "Epoch 6 Batch 2000 Loss 0.0715\n",
      "Epoch 6 Batch 2100 Loss 0.0662\n",
      "Epoch 6 Loss 0.0703\n",
      "Time taken for 1 epoch 1491.90234375 sec\n",
      "\n",
      "Epoch 7 Batch 0 Loss 0.0595\n",
      "Epoch 7 Batch 100 Loss 0.0584\n",
      "Epoch 7 Batch 200 Loss 0.0563\n",
      "Epoch 7 Batch 300 Loss 0.0585\n",
      "Epoch 7 Batch 400 Loss 0.0628\n",
      "Epoch 7 Batch 500 Loss 0.0570\n",
      "Epoch 7 Batch 600 Loss 0.0676\n",
      "Epoch 7 Batch 700 Loss 0.0522\n",
      "Epoch 7 Batch 800 Loss 0.0617\n",
      "Epoch 7 Batch 900 Loss 0.0653\n",
      "Epoch 7 Batch 1000 Loss 0.0648\n",
      "Epoch 7 Batch 1100 Loss 0.0687\n",
      "Epoch 7 Batch 1200 Loss 0.0686\n",
      "Epoch 7 Batch 1300 Loss 0.0673\n",
      "Epoch 7 Batch 1400 Loss 0.0587\n",
      "Epoch 7 Batch 1500 Loss 0.0645\n",
      "Epoch 7 Batch 1600 Loss 0.0720\n",
      "Epoch 7 Batch 1700 Loss 0.0714\n",
      "Epoch 7 Batch 1800 Loss 0.0832\n",
      "Epoch 7 Batch 1900 Loss 0.0707\n",
      "Epoch 7 Batch 2000 Loss 0.0594\n",
      "Epoch 7 Batch 2100 Loss 0.0720\n",
      "Epoch 7 Loss 0.0655\n",
      "Time taken for 1 epoch 1490.4232113361359 sec\n",
      "\n",
      "Epoch 8 Batch 0 Loss 0.0564\n",
      "Epoch 8 Batch 100 Loss 0.0503\n",
      "Epoch 8 Batch 200 Loss 0.0546\n",
      "Epoch 8 Batch 300 Loss 0.0526\n",
      "Epoch 8 Batch 400 Loss 0.0570\n",
      "Epoch 8 Batch 500 Loss 0.0576\n",
      "Epoch 8 Batch 600 Loss 0.0568\n",
      "Epoch 8 Batch 700 Loss 0.0692\n",
      "Epoch 8 Batch 800 Loss 0.0585\n",
      "Epoch 8 Batch 900 Loss 0.0646\n",
      "Epoch 8 Batch 1000 Loss 0.0688\n",
      "Epoch 8 Batch 1100 Loss 0.0593\n",
      "Epoch 8 Batch 1200 Loss 0.0700\n",
      "Epoch 8 Batch 1300 Loss 0.0686\n",
      "Epoch 8 Batch 1400 Loss 0.0781\n",
      "Epoch 8 Batch 1500 Loss 0.0524\n",
      "Epoch 8 Batch 1600 Loss 0.0714\n",
      "Epoch 8 Batch 1700 Loss 0.0706\n",
      "Epoch 8 Batch 1800 Loss 0.0632\n",
      "Epoch 8 Batch 1900 Loss 0.0821\n",
      "Epoch 8 Batch 2000 Loss 0.0686\n",
      "Epoch 8 Batch 2100 Loss 0.0655\n",
      "Epoch 8 Loss 0.0622\n",
      "Time taken for 1 epoch 1492.0117297172546 sec\n",
      "\n",
      "Epoch 9 Batch 0 Loss 0.0505\n",
      "Epoch 9 Batch 100 Loss 0.0471\n",
      "Epoch 9 Batch 200 Loss 0.0578\n",
      "Epoch 9 Batch 300 Loss 0.0525\n",
      "Epoch 9 Batch 400 Loss 0.0623\n",
      "Epoch 9 Batch 500 Loss 0.0511\n",
      "Epoch 9 Batch 600 Loss 0.0578\n",
      "Epoch 9 Batch 700 Loss 0.0553\n",
      "Epoch 9 Batch 800 Loss 0.0603\n",
      "Epoch 9 Batch 900 Loss 0.0579\n",
      "Epoch 9 Batch 1000 Loss 0.0558\n",
      "Epoch 9 Batch 1100 Loss 0.0666\n",
      "Epoch 9 Batch 1200 Loss 0.0601\n",
      "Epoch 9 Batch 1300 Loss 0.0609\n",
      "Epoch 9 Batch 1400 Loss 0.0657\n",
      "Epoch 9 Batch 1500 Loss 0.0643\n",
      "Epoch 9 Batch 1600 Loss 0.0644\n",
      "Epoch 9 Batch 1700 Loss 0.0649\n",
      "Epoch 9 Batch 1800 Loss 0.0559\n",
      "Epoch 9 Batch 1900 Loss 0.0699\n",
      "Epoch 9 Batch 2000 Loss 0.0749\n",
      "Epoch 9 Batch 2100 Loss 0.0719\n",
      "Epoch 9 Loss 0.0599\n",
      "Time taken for 1 epoch 1490.382583618164 sec\n",
      "\n",
      "Epoch 10 Batch 0 Loss 0.0477\n",
      "Epoch 10 Batch 100 Loss 0.0528\n",
      "Epoch 10 Batch 200 Loss 0.0554\n",
      "Epoch 10 Batch 300 Loss 0.0508\n",
      "Epoch 10 Batch 400 Loss 0.0484\n",
      "Epoch 10 Batch 500 Loss 0.0571\n",
      "Epoch 10 Batch 600 Loss 0.0577\n",
      "Epoch 10 Batch 700 Loss 0.0520\n",
      "Epoch 10 Batch 800 Loss 0.0666\n",
      "Epoch 10 Batch 900 Loss 0.0501\n",
      "Epoch 10 Batch 1000 Loss 0.0682\n",
      "Epoch 10 Batch 1100 Loss 0.0599\n",
      "Epoch 10 Batch 1200 Loss 0.0641\n",
      "Epoch 10 Batch 1300 Loss 0.0629\n",
      "Epoch 10 Batch 1400 Loss 0.0653\n",
      "Epoch 10 Batch 1500 Loss 0.0615\n",
      "Epoch 10 Batch 1600 Loss 0.0679\n",
      "Epoch 10 Batch 1700 Loss 0.0729\n",
      "Epoch 10 Batch 1800 Loss 0.0646\n",
      "Epoch 10 Batch 1900 Loss 0.0617\n",
      "Epoch 10 Batch 2000 Loss 0.0630\n",
      "Epoch 10 Batch 2100 Loss 0.0547\n",
      "Epoch 10 Loss 0.0581\n",
      "Time taken for 1 epoch 1490.951425075531 sec\n",
      "\n"
     ]
    }
   ],
   "source": [
    "EPOCHS = 10\n",
    "\n",
    "for epoch in range(EPOCHS):\n",
    "    \n",
    "    start = time.time()\n",
    "\n",
    "    enc_hidden = encoder.initialize_hidden_state()\n",
    "    total_loss = 0\n",
    "\n",
    "    for (batch, (inp, targ)) in enumerate(dataset.take(steps_per_epoch)):\n",
    "        \n",
    "        batch_loss = train_step(inp, targ, enc_hidden)\n",
    "        total_loss += batch_loss\n",
    "\n",
    "        if batch % 100 == 0:\n",
    "        \n",
    "            print('Epoch {} Batch {} Loss {:.4f}'.format(epoch + 1,\n",
    "                                                   batch,\n",
    "                                                   batch_loss.numpy()))\n",
    "    # saving (checkpoint) the model every 2 epochs\n",
    "    if (epoch + 1) % 2 == 0:\n",
    "        \n",
    "        checkpoint.save(file_prefix = checkpoint_prefix)\n",
    "\n",
    "    print('Epoch {} Loss {:.4f}'.format(epoch + 1,\n",
    "                                      total_loss / steps_per_epoch))\n",
    "    print('Time taken for 1 epoch {} sec\\n'.format(time.time() - start))"
   ]
  },
  {
   "cell_type": "code",
   "execution_count": 0,
   "metadata": {
    "colab": {},
    "colab_type": "code",
    "id": "CRkejF0MWZOK"
   },
   "outputs": [],
   "source": [
    "def evaluate(sentence):\n",
    "  attention_plot = np.zeros((max_length_targ, max_length_inp))\n",
    "\n",
    "  sentence = preprocess_sentence(sentence)\n",
    "\n",
    "  inputs = [english_tokenizer.word_index[i] for i in sentence.split(' ')]\n",
    "  inputs = tf.keras.preprocessing.sequence.pad_sequences([inputs],\n",
    "                                                         maxlen=max_length_inp,\n",
    "                                                         padding='post')\n",
    "  inputs = tf.convert_to_tensor(inputs)\n",
    "\n",
    "  result = ''\n",
    "\n",
    "  hidden = [tf.zeros((1, units))]\n",
    "  enc_out, enc_hidden = encoder(inputs, hidden)\n",
    "\n",
    "  dec_hidden = enc_hidden\n",
    "  dec_input = tf.expand_dims([spanish_tokenizer.word_index['<start>']], 0)\n",
    "\n",
    "  for t in range(max_length_targ):\n",
    "    predictions, dec_hidden, attention_weights = decoder(dec_input,\n",
    "                                                         dec_hidden,\n",
    "                                                         enc_out)\n",
    "\n",
    "    # storing the attention weights to plot later on\n",
    "    attention_weights = tf.reshape(attention_weights, (-1, ))\n",
    "    attention_plot[t] = attention_weights.numpy()\n",
    "\n",
    "    predicted_id = tf.argmax(predictions[0]).numpy()\n",
    "\n",
    "    result += spanish_tokenizer.index_word[predicted_id] + ' '\n",
    "\n",
    "    if spanish_tokenizer.index_word[predicted_id] == '<end>':\n",
    "      return result, sentence, attention_plot\n",
    "\n",
    "    # the predicted ID is fed back into the model\n",
    "    dec_input = tf.expand_dims([predicted_id], 0)\n",
    "\n",
    "  return result, sentence, attention_plot"
   ]
  },
  {
   "cell_type": "code",
   "execution_count": 0,
   "metadata": {
    "colab": {},
    "colab_type": "code",
    "id": "jI_c4ldxWZOL"
   },
   "outputs": [],
   "source": [
    "# function for plotting the attention weights\n",
    "def plot_attention(attention, sentence, predicted_sentence):\n",
    "  fig = plt.figure(figsize=(10,10))\n",
    "  ax = fig.add_subplot(1, 1, 1)\n",
    "  ax.matshow(attention, cmap='viridis')\n",
    "\n",
    "  fontdict = {'fontsize': 14}\n",
    "\n",
    "  ax.set_xticklabels([''] + sentence, fontdict=fontdict, rotation=90)\n",
    "  ax.set_yticklabels([''] + predicted_sentence, fontdict=fontdict)\n",
    "\n",
    "  ax.xaxis.set_major_locator(ticker.MultipleLocator(1))\n",
    "  ax.yaxis.set_major_locator(ticker.MultipleLocator(1))\n",
    "\n",
    "  plt.show()"
   ]
  },
  {
   "cell_type": "code",
   "execution_count": 0,
   "metadata": {
    "colab": {},
    "colab_type": "code",
    "id": "XrbwCqpfWZON"
   },
   "outputs": [],
   "source": [
    "def translate(sentence):\n",
    "  result, sentence, attention_plot = evaluate(sentence)\n",
    "\n",
    "  print('Input: %s' % (sentence))\n",
    "  print('Predicted translation: {}'.format(result))\n",
    "\n",
    "  attention_plot = attention_plot[:len(result.split(' ')), :len(sentence.split(' '))]\n",
    "  plot_attention(attention_plot, sentence.split(' '), result.split(' '))"
   ]
  },
  {
   "cell_type": "markdown",
   "metadata": {},
   "source": [
    "### Making predictions for few sentences and plotting its attention plot"
   ]
  },
  {
   "cell_type": "code",
   "execution_count": 28,
   "metadata": {
    "colab": {
     "base_uri": "https://localhost:8080/",
     "height": 566
    },
    "colab_type": "code",
    "id": "O3xtt54GWZOO",
    "outputId": "2f63f48e-5c8b-4bb5-bee4-ba56287643c4"
   },
   "outputs": [
    {
     "name": "stdout",
     "output_type": "stream",
     "text": [
      "Input: <start> he went out in a hurry . <end>\n",
      "Predicted translation: lui usc di fretta . <end> \n"
     ]
    },
    {
     "data": {
      "image/png": "[encoded data removed]",
      "text/plain": [
       "<Figure size 720x720 with 1 Axes>"
      ]
     },
     "metadata": {
      "needs_background": "light",
      "tags": []
     },
     "output_type": "display_data"
    }
   ],
   "source": [
    "translate(input_val[20].lower())"
   ]
  },
  {
   "cell_type": "code",
   "execution_count": 29,
   "metadata": {
    "colab": {
     "base_uri": "https://localhost:8080/",
     "height": 674
    },
    "colab_type": "code",
    "id": "HNx1v3d6WZOR",
    "outputId": "b7c45d82-24d0-4dbc-93de-9d95d787ee9f"
   },
   "outputs": [
    {
     "name": "stdout",
     "output_type": "stream",
     "text": [
      "Input: <start> i gave my old coat to tom . <end>\n",
      "Predicted translation: ho dato il mio vecchio cappotto a tom . <end> \n"
     ]
    },
    {
     "data": {
      "image/png": "[encoded data removed]",
      "text/plain": [
       "<Figure size 720x720 with 1 Axes>"
      ]
     },
     "metadata": {
      "needs_background": "light",
      "tags": []
     },
     "output_type": "display_data"
    }
   ],
   "source": [
    "translate(input_val[99].lower())"
   ]
  },
  {
   "cell_type": "code",
   "execution_count": 30,
   "metadata": {
    "colab": {
     "base_uri": "https://localhost:8080/",
     "height": 514
    },
    "colab_type": "code",
    "id": "-FZ5ExztWZOS",
    "outputId": "89903f54-7ad0-4643-8d2f-7ee32036188a"
   },
   "outputs": [
    {
     "name": "stdout",
     "output_type": "stream",
     "text": [
      "Input: <start> you were supposed to be prepared . <end>\n",
      "Predicted translation: dovevate essere preparati . <end> \n"
     ]
    },
    {
     "data": {
      "image/png": "[encoded data removed]",
      "text/plain": [
       "<Figure size 720x720 with 1 Axes>"
      ]
     },
     "metadata": {
      "needs_background": "light",
      "tags": []
     },
     "output_type": "display_data"
    }
   ],
   "source": [
    "translate(input_val[63].lower())"
   ]
  },
  {
   "cell_type": "code",
   "execution_count": 31,
   "metadata": {
    "colab": {
     "base_uri": "https://localhost:8080/",
     "height": 681
    },
    "colab_type": "code",
    "id": "WQiXV3OmaQqp",
    "outputId": "f445516c-500a-455c-cc48-b45831122318"
   },
   "outputs": [
    {
     "name": "stdout",
     "output_type": "stream",
     "text": [
      "Input: <start> we captured the thief . <end>\n",
      "Predicted translation: noi abbiamo avuto un ladro . <end> \n"
     ]
    },
    {
     "data": {
      "image/png": "[encoded data removed]",
      "text/plain": [
       "<Figure size 720x720 with 1 Axes>"
      ]
     },
     "metadata": {
      "needs_background": "light",
      "tags": []
     },
     "output_type": "display_data"
    }
   ],
   "source": [
    "translate(input_val[62].lower())"
   ]
  },
  {
   "cell_type": "code",
   "execution_count": 32,
   "metadata": {
    "colab": {
     "base_uri": "https://localhost:8080/",
     "height": 674
    },
    "colab_type": "code",
    "id": "ekI-iq7LaUDX",
    "outputId": "63bb2cd8-0941-4fcc-af24-eb74d1724f17"
   },
   "outputs": [
    {
     "name": "stdout",
     "output_type": "stream",
     "text": [
      "Input: <start> tom knew certain things about mary that she hoped he wouldn t tell john . <end>\n",
      "Predicted translation: tom sapeva cose che a mary non dire che non aveva ragione a dire che john . <end> \n"
     ]
    },
    {
     "data": {
      "image/png": "[encoded data removed]",
      "text/plain": [
       "<Figure size 720x720 with 1 Axes>"
      ]
     },
     "metadata": {
      "needs_background": "light",
      "tags": []
     },
     "output_type": "display_data"
    }
   ],
   "source": [
    "translate(input_val[763].lower())"
   ]
  },
  {
   "cell_type": "markdown",
   "metadata": {},
   "source": [
    "### Calculating BLEU score for test data"
   ]
  },
  {
   "cell_type": "code",
   "execution_count": 0,
   "metadata": {
    "colab": {},
    "colab_type": "code",
    "id": "dBQWGyOpWZOU"
   },
   "outputs": [],
   "source": [
    "def pre(w):\n",
    "    # creating a space between a word and the punctuation following it\n",
    "    # eg: \"he is a boy.\" => \"he is a boy .\"\n",
    "    # Reference:- https://stackoverflow.com/questions/3645931/python-padding-punctuation-with-white-spaces-keeping-punctuation\n",
    "    w=w.lower()\n",
    "    w = re.sub(r\"([?.!,¿])\", r\" \\1 \", w)\n",
    "    w = re.sub(r'[\" \"]+', \" \", w)\n",
    "    # replacing everything with space except (a-z, A-Z, \".\", \"?\", \"!\", \",\")\n",
    "    w = re.sub(r\"[^a-zA-Z?.!,¿]+\", \" \", w)\n",
    "    w = w.strip()\n",
    "    return w"
   ]
  },
  {
   "cell_type": "code",
   "execution_count": 0,
   "metadata": {
    "colab": {},
    "colab_type": "code",
    "id": "FZqeEmZg3qtt"
   },
   "outputs": [],
   "source": [
    "import nltk.translate.bleu_score as bleu\n",
    "from tqdm import tqdm_notebook\n",
    "import pandas as pd\n",
    "import warnings\n",
    "warnings.filterwarnings('ignore')"
   ]
  },
  {
   "cell_type": "code",
   "execution_count": 35,
   "metadata": {
    "colab": {
     "base_uri": "https://localhost:8080/",
     "height": 65,
     "referenced_widgets": [
      "716222e79210439db1fd06001532353a",
      "bdcc6f4520e949b0a4648c781171047f",
      "1a9832831c704fda8b92733c929531e9",
      "ffe9ce5f81bd4ffb852419e96e03f384",
      "5b66e0d77e2849c2a7097c88591eacc9",
      "b19dbd61e7e645109f01bf7a6e89577e",
      "88f4e6cad4664433b8bb2aed3328f344",
      "9947880e60d74ae9b4e1a3da5ae04d5d"
     ]
    },
    "colab_type": "code",
    "id": "xhhWyfVaWZOW",
    "outputId": "13decee7-31c7-45c3-f804-aa3a6d911cc9"
   },
   "outputs": [
    {
     "data": {
      "application/vnd.jupyter.widget-view+json": {
       "model_id": "716222e79210439db1fd06001532353a",
       "version_major": 2,
       "version_minor": 0
      },
      "text/plain": [
       "HBox(children=(IntProgress(value=1, bar_style='info', max=1), HTML(value='')))"
      ]
     },
     "metadata": {
      "tags": []
     },
     "output_type": "display_data"
    },
    {
     "name": "stdout",
     "output_type": "stream",
     "text": [
      "\n"
     ]
    }
   ],
   "source": [
    "l=np.zeros((len(input_val),3),dtype=object)\n",
    "i=0\n",
    "for inp,tar in tqdm_notebook(zip(input_val,target_val)):\n",
    "  x,_,_=evaluate(inp.lower())\n",
    "  translation=x[:-7].split(\" \")\n",
    "  l[i,0]= x[:-7]\n",
    "  reference=pre(tar)\n",
    "  l[i,1]= reference\n",
    "  reference=[reference.split(\" \")]\n",
    "  l[i,2]= bleu.sentence_bleu(reference, translation)\n",
    "  i+=1\n",
    "  "
   ]
  },
  {
   "cell_type": "code",
   "execution_count": 0,
   "metadata": {
    "colab": {},
    "colab_type": "code",
    "id": "YDCLP5IcWZOa"
   },
   "outputs": [],
   "source": [
    "df = pd.DataFrame(l, columns = ['translation','reference','BLEU'])"
   ]
  },
  {
   "cell_type": "code",
   "execution_count": 37,
   "metadata": {
    "colab": {
     "base_uri": "https://localhost:8080/",
     "height": 345
    },
    "colab_type": "code",
    "id": "KGtn2m6RWZOc",
    "outputId": "b2dc9bcd-9aa8-4912-afd9-287c0c248849"
   },
   "outputs": [
    {
     "data": {
      "text/html": [
       "<div>\n",
       "<style scoped>\n",
       "    .dataframe tbody tr th:only-of-type {\n",
       "        vertical-align: middle;\n",
       "    }\n",
       "\n",
       "    .dataframe tbody tr th {\n",
       "        vertical-align: top;\n",
       "    }\n",
       "\n",
       "    .dataframe thead th {\n",
       "        text-align: right;\n",
       "    }\n",
       "</style>\n",
       "<table border=\"1\" class=\"dataframe\">\n",
       "  <thead>\n",
       "    <tr style=\"text-align: right;\">\n",
       "      <th></th>\n",
       "      <th>translation</th>\n",
       "      <th>reference</th>\n",
       "      <th>BLEU</th>\n",
       "    </tr>\n",
       "  </thead>\n",
       "  <tbody>\n",
       "    <tr>\n",
       "      <th>0</th>\n",
       "      <td>il processo di tom durato tre giorni .</td>\n",
       "      <td>il processo di tom durato tre giorni .</td>\n",
       "      <td>1</td>\n",
       "    </tr>\n",
       "    <tr>\n",
       "      <th>1</th>\n",
       "      <td>ha iniziato a scrivere un romanzo .</td>\n",
       "      <td>lui ha iniziato a scrivere un romanzo .</td>\n",
       "      <td>0.866878</td>\n",
       "    </tr>\n",
       "    <tr>\n",
       "      <th>2</th>\n",
       "      <td>riposiamoci qua .</td>\n",
       "      <td>riposiamoci qui .</td>\n",
       "      <td>0.903602</td>\n",
       "    </tr>\n",
       "    <tr>\n",
       "      <th>3</th>\n",
       "      <td>sono le dieci e mezza ?</td>\n",
       "      <td>sono circa le dieci ?</td>\n",
       "      <td>0.604275</td>\n",
       "    </tr>\n",
       "    <tr>\n",
       "      <th>4</th>\n",
       "      <td>tom era sposato allora .</td>\n",
       "      <td>tom era sposato all epoca .</td>\n",
       "      <td>0.494739</td>\n",
       "    </tr>\n",
       "    <tr>\n",
       "      <th>5</th>\n",
       "      <td>mettete quella pistola .</td>\n",
       "      <td>metti gi quella pistola .</td>\n",
       "      <td>0.550695</td>\n",
       "    </tr>\n",
       "    <tr>\n",
       "      <th>6</th>\n",
       "      <td>ai bambini piace gli orsetti gommosi .</td>\n",
       "      <td>ai bambini piacciono gli orsetti gommosi .</td>\n",
       "      <td>0.488923</td>\n",
       "    </tr>\n",
       "    <tr>\n",
       "      <th>7</th>\n",
       "      <td>io lo devo dire a tom .</td>\n",
       "      <td>io lo devo dire a tom .</td>\n",
       "      <td>1</td>\n",
       "    </tr>\n",
       "    <tr>\n",
       "      <th>8</th>\n",
       "      <td>sapevo che questo momento sarebbe venuto .</td>\n",
       "      <td>sapevo che questo momento sarebbe arrivato .</td>\n",
       "      <td>0.643459</td>\n",
       "    </tr>\n",
       "    <tr>\n",
       "      <th>9</th>\n",
       "      <td>non ho detto a nessuno .</td>\n",
       "      <td>io non ho incontrato nessuno .</td>\n",
       "      <td>0.718608</td>\n",
       "    </tr>\n",
       "  </tbody>\n",
       "</table>\n",
       "</div>"
      ],
      "text/plain": [
       "                                  translation  ...      BLEU\n",
       "0      il processo di tom durato tre giorni .  ...         1\n",
       "1         ha iniziato a scrivere un romanzo .  ...  0.866878\n",
       "2                           riposiamoci qua .  ...  0.903602\n",
       "3                     sono le dieci e mezza ?  ...  0.604275\n",
       "4                    tom era sposato allora .  ...  0.494739\n",
       "5                    mettete quella pistola .  ...  0.550695\n",
       "6      ai bambini piace gli orsetti gommosi .  ...  0.488923\n",
       "7                     io lo devo dire a tom .  ...         1\n",
       "8  sapevo che questo momento sarebbe venuto .  ...  0.643459\n",
       "9                    non ho detto a nessuno .  ...  0.718608\n",
       "\n",
       "[10 rows x 3 columns]"
      ]
     },
     "execution_count": 37,
     "metadata": {
      "tags": []
     },
     "output_type": "execute_result"
    }
   ],
   "source": [
    "df.head(10)"
   ]
  },
  {
   "cell_type": "code",
   "execution_count": 38,
   "metadata": {
    "colab": {
     "base_uri": "https://localhost:8080/",
     "height": 33
    },
    "colab_type": "code",
    "id": "XrLccBRuWZOe",
    "outputId": "8e0e9458-0847-4906-9c9a-89e9ef9e5412"
   },
   "outputs": [
    {
     "name": "stdout",
     "output_type": "stream",
     "text": [
      "Average BLEU score: 0.6760241527833699\n"
     ]
    }
   ],
   "source": [
    "score=df[\"BLEU\"].mean()\n",
    "print(\"Average BLEU score:\",score)"
   ]
  },
  {
   "cell_type": "markdown",
   "metadata": {
    "colab": {},
    "colab_type": "code",
    "id": "dsqdfmHyaa-1"
   },
   "source": [
    "## Conclusions:"
   ]
  },
  {
   "cell_type": "markdown",
   "metadata": {},
   "source": [
    "1. This model implents english to italian translation using luong attetion(using general score)\n",
    "2. The model used 512 hidden units for GRU cell,256 as embedding dimension, batch size of 128\n",
    "3. The model was trainied for 10 epochs and achieved a cross entopy loss of 0.0581 on train data\n",
    "4. The model was validated for 67,000 instances(test data) and achieved a BLEU score of 0.6760"
   ]
  }
 ],
 "metadata": {
  "accelerator": "GPU",
  "colab": {
   "collapsed_sections": [],
   "name": "general_attention.ipynb",
   "provenance": []
  },
  "kernelspec": {
   "display_name": "TensorFlow-GPU",
   "language": "python",
   "name": "tf-gpu"
  },
  "language_info": {
   "codemirror_mode": {
    "name": "ipython",
    "version": 3
   },
   "file_extension": ".py",
   "mimetype": "text/x-python",
   "name": "python",
   "nbconvert_exporter": "python",
   "pygments_lexer": "ipython3",
   "version": "3.7.6"
  },
  "widgets": {
   "application/vnd.jupyter.widget-state+json": {
    "1a9832831c704fda8b92733c929531e9": {
     "model_module": "@jupyter-widgets/controls",
     "model_name": "IntProgressModel",
     "state": {
      "_dom_classes": [],
      "_model_module": "@jupyter-widgets/controls",
      "_model_module_version": "1.5.0",
      "_model_name": "IntProgressModel",
      "_view_count": null,
      "_view_module": "@jupyter-widgets/controls",
      "_view_module_version": "1.5.0",
      "_view_name": "ProgressView",
      "bar_style": "success",
      "description": "",
      "description_tooltip": null,
      "layout": "IPY_MODEL_b19dbd61e7e645109f01bf7a6e89577e",
      "max": 1,
      "min": 0,
      "orientation": "horizontal",
      "style": "IPY_MODEL_5b66e0d77e2849c2a7097c88591eacc9",
      "value": 1
     }
    },
    "5b66e0d77e2849c2a7097c88591eacc9": {
     "model_module": "@jupyter-widgets/controls",
     "model_name": "ProgressStyleModel",
     "state": {
      "_model_module": "@jupyter-widgets/controls",
      "_model_module_version": "1.5.0",
      "_model_name": "ProgressStyleModel",
      "_view_count": null,
      "_view_module": "@jupyter-widgets/base",
      "_view_module_version": "1.2.0",
      "_view_name": "StyleView",
      "bar_color": null,
      "description_width": "initial"
     }
    },
    "716222e79210439db1fd06001532353a": {
     "model_module": "@jupyter-widgets/controls",
     "model_name": "HBoxModel",
     "state": {
      "_dom_classes": [],
      "_model_module": "@jupyter-widgets/controls",
      "_model_module_version": "1.5.0",
      "_model_name": "HBoxModel",
      "_view_count": null,
      "_view_module": "@jupyter-widgets/controls",
      "_view_module_version": "1.5.0",
      "_view_name": "HBoxView",
      "box_style": "",
      "children": [
       "IPY_MODEL_1a9832831c704fda8b92733c929531e9",
       "IPY_MODEL_ffe9ce5f81bd4ffb852419e96e03f384"
      ],
      "layout": "IPY_MODEL_bdcc6f4520e949b0a4648c781171047f"
     }
    },
    "88f4e6cad4664433b8bb2aed3328f344": {
     "model_module": "@jupyter-widgets/controls",
     "model_name": "DescriptionStyleModel",
     "state": {
      "_model_module": "@jupyter-widgets/controls",
      "_model_module_version": "1.5.0",
      "_model_name": "DescriptionStyleModel",
      "_view_count": null,
      "_view_module": "@jupyter-widgets/base",
      "_view_module_version": "1.2.0",
      "_view_name": "StyleView",
      "description_width": ""
     }
    },
    "9947880e60d74ae9b4e1a3da5ae04d5d": {
     "model_module": "@jupyter-widgets/base",
     "model_name": "LayoutModel",
     "state": {
      "_model_module": "@jupyter-widgets/base",
      "_model_module_version": "1.2.0",
      "_model_name": "LayoutModel",
      "_view_count": null,
      "_view_module": "@jupyter-widgets/base",
      "_view_module_version": "1.2.0",
      "_view_name": "LayoutView",
      "align_content": null,
      "align_items": null,
      "align_self": null,
      "border": null,
      "bottom": null,
      "display": null,
      "flex": null,
      "flex_flow": null,
      "grid_area": null,
      "grid_auto_columns": null,
      "grid_auto_flow": null,
      "grid_auto_rows": null,
      "grid_column": null,
      "grid_gap": null,
      "grid_row": null,
      "grid_template_areas": null,
      "grid_template_columns": null,
      "grid_template_rows": null,
      "height": null,
      "justify_content": null,
      "justify_items": null,
      "left": null,
      "margin": null,
      "max_height": null,
      "max_width": null,
      "min_height": null,
      "min_width": null,
      "object_fit": null,
      "object_position": null,
      "order": null,
      "overflow": null,
      "overflow_x": null,
      "overflow_y": null,
      "padding": null,
      "right": null,
      "top": null,
      "visibility": null,
      "width": null
     }
    },
    "b19dbd61e7e645109f01bf7a6e89577e": {
     "model_module": "@jupyter-widgets/base",
     "model_name": "LayoutModel",
     "state": {
      "_model_module": "@jupyter-widgets/base",
      "_model_module_version": "1.2.0",
      "_model_name": "LayoutModel",
      "_view_count": null,
      "_view_module": "@jupyter-widgets/base",
      "_view_module_version": "1.2.0",
      "_view_name": "LayoutView",
      "align_content": null,
      "align_items": null,
      "align_self": null,
      "border": null,
      "bottom": null,
      "display": null,
      "flex": null,
      "flex_flow": null,
      "grid_area": null,
      "grid_auto_columns": null,
      "grid_auto_flow": null,
      "grid_auto_rows": null,
      "grid_column": null,
      "grid_gap": null,
      "grid_row": null,
      "grid_template_areas": null,
      "grid_template_columns": null,
      "grid_template_rows": null,
      "height": null,
      "justify_content": null,
      "justify_items": null,
      "left": null,
      "margin": null,
      "max_height": null,
      "max_width": null,
      "min_height": null,
      "min_width": null,
      "object_fit": null,
      "object_position": null,
      "order": null,
      "overflow": null,
      "overflow_x": null,
      "overflow_y": null,
      "padding": null,
      "right": null,
      "top": null,
      "visibility": null,
      "width": null
     }
    },
    "bdcc6f4520e949b0a4648c781171047f": {
     "model_module": "@jupyter-widgets/base",
     "model_name": "LayoutModel",
     "state": {
      "_model_module": "@jupyter-widgets/base",
      "_model_module_version": "1.2.0",
      "_model_name": "LayoutModel",
      "_view_count": null,
      "_view_module": "@jupyter-widgets/base",
      "_view_module_version": "1.2.0",
      "_view_name": "LayoutView",
      "align_content": null,
      "align_items": null,
      "align_self": null,
      "border": null,
      "bottom": null,
      "display": null,
      "flex": null,
      "flex_flow": null,
      "grid_area": null,
      "grid_auto_columns": null,
      "grid_auto_flow": null,
      "grid_auto_rows": null,
      "grid_column": null,
      "grid_gap": null,
      "grid_row": null,
      "grid_template_areas": null,
      "grid_template_columns": null,
      "grid_template_rows": null,
      "height": null,
      "justify_content": null,
      "justify_items": null,
      "left": null,
      "margin": null,
      "max_height": null,
      "max_width": null,
      "min_height": null,
      "min_width": null,
      "object_fit": null,
      "object_position": null,
      "order": null,
      "overflow": null,
      "overflow_x": null,
      "overflow_y": null,
      "padding": null,
      "right": null,
      "top": null,
      "visibility": null,
      "width": null
     }
    },
    "ffe9ce5f81bd4ffb852419e96e03f384": {
     "model_module": "@jupyter-widgets/controls",
     "model_name": "HTMLModel",
     "state": {
      "_dom_classes": [],
      "_model_module": "@jupyter-widgets/controls",
      "_model_module_version": "1.5.0",
      "_model_name": "HTMLModel",
      "_view_count": null,
      "_view_module": "@jupyter-widgets/controls",
      "_view_module_version": "1.5.0",
      "_view_name": "HTMLView",
      "description": "",
      "description_tooltip": null,
      "layout": "IPY_MODEL_9947880e60d74ae9b4e1a3da5ae04d5d",
      "placeholder": "​",
      "style": "IPY_MODEL_88f4e6cad4664433b8bb2aed3328f344",
      "value": " 67323/? [2:07:59&lt;00:00,  8.77it/s]"
     }
    }
   }
  }
 },
 "nbformat": 4,
 "nbformat_minor": 1
}
